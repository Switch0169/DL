{
 "cells": [
  {
   "cell_type": "code",
   "execution_count": 1,
   "id": "681885bc",
   "metadata": {
    "execution": {
     "iopub.execute_input": "2022-06-26T22:08:28.611125Z",
     "iopub.status.busy": "2022-06-26T22:08:28.610282Z",
     "iopub.status.idle": "2022-06-26T22:08:30.315200Z",
     "shell.execute_reply": "2022-06-26T22:08:30.314230Z"
    },
    "papermill": {
     "duration": 1.715862,
     "end_time": "2022-06-26T22:08:30.317817",
     "exception": false,
     "start_time": "2022-06-26T22:08:28.601955",
     "status": "completed"
    },
    "tags": []
   },
   "outputs": [],
   "source": [
    "import torch\n",
    "import numpy as np\n",
    "import os\n",
    "from torch.utils import data\n",
    "import torch.nn as nn\n",
    "import pandas as pd"
   ]
  },
  {
   "cell_type": "code",
   "execution_count": 2,
   "id": "66d6aecc",
   "metadata": {
    "execution": {
     "iopub.execute_input": "2022-06-26T22:08:30.331142Z",
     "iopub.status.busy": "2022-06-26T22:08:30.330709Z",
     "iopub.status.idle": "2022-06-26T22:08:54.961629Z",
     "shell.execute_reply": "2022-06-26T22:08:54.960515Z"
    },
    "papermill": {
     "duration": 24.640847,
     "end_time": "2022-06-26T22:08:54.965014",
     "exception": false,
     "start_time": "2022-06-26T22:08:30.324167",
     "status": "completed"
    },
    "tags": []
   },
   "outputs": [
    {
     "name": "stdout",
     "output_type": "stream",
     "text": [
      "Collecting cntext\r\n",
      "  Downloading cntext-1.7.3-py3-none-any.whl (632 kB)\r\n",
      "\u001b[2K     \u001b[90m━━━━━━━━━━━━━━━━━━━━━━━━━━━━━━━━━━━━━━━\u001b[0m \u001b[32m632.1/632.1 kB\u001b[0m \u001b[31m1.7 MB/s\u001b[0m eta \u001b[36m0:00:00\u001b[0m\r\n",
      "\u001b[?25hCollecting mittens\r\n",
      "  Downloading mittens-0.2-py3-none-any.whl (15 kB)\r\n",
      "Collecting pyecharts\r\n",
      "  Downloading pyecharts-1.9.1-py3-none-any.whl (135 kB)\r\n",
      "\u001b[2K     \u001b[90m━━━━━━━━━━━━━━━━━━━━━━━━━━━━━━━━━━━━━━━\u001b[0m \u001b[32m135.6/135.6 kB\u001b[0m \u001b[31m9.8 MB/s\u001b[0m eta \u001b[36m0:00:00\u001b[0m\r\n",
      "\u001b[?25hCollecting gensim==4.0.0\r\n",
      "  Downloading gensim-4.0.0-cp37-cp37m-manylinux1_x86_64.whl (23.9 MB)\r\n",
      "\u001b[2K     \u001b[90m━━━━━━━━━━━━━━━━━━━━━━━━━━━━━━━━━━━━━━━━\u001b[0m \u001b[32m23.9/23.9 MB\u001b[0m \u001b[31m24.1 MB/s\u001b[0m eta \u001b[36m0:00:00\u001b[0m\r\n",
      "\u001b[?25hRequirement already satisfied: matplotlib in /opt/conda/lib/python3.7/site-packages (from cntext) (3.5.2)\r\n",
      "Requirement already satisfied: numpy in /opt/conda/lib/python3.7/site-packages (from cntext) (1.21.6)\r\n",
      "Requirement already satisfied: jieba in /opt/conda/lib/python3.7/site-packages (from cntext) (0.42.1)\r\n",
      "Requirement already satisfied: nltk in /opt/conda/lib/python3.7/site-packages (from cntext) (3.2.4)\r\n",
      "Collecting scikit-learn==1.0\r\n",
      "  Downloading scikit_learn-1.0-cp37-cp37m-manylinux_2_12_x86_64.manylinux2010_x86_64.whl (23.1 MB)\r\n",
      "\u001b[2K     \u001b[90m━━━━━━━━━━━━━━━━━━━━━━━━━━━━━━━━━━━━━━━━\u001b[0m \u001b[32m23.1/23.1 MB\u001b[0m \u001b[31m26.2 MB/s\u001b[0m eta \u001b[36m0:00:00\u001b[0m\r\n",
      "\u001b[?25hCollecting numpy\r\n",
      "  Downloading numpy-1.20.0-cp37-cp37m-manylinux2010_x86_64.whl (15.3 MB)\r\n",
      "\u001b[2K     \u001b[90m━━━━━━━━━━━━━━━━━━━━━━━━━━━━━━━━━━━━━━━━\u001b[0m \u001b[32m15.3/15.3 MB\u001b[0m \u001b[31m24.8 MB/s\u001b[0m eta \u001b[36m0:00:00\u001b[0m\r\n",
      "\u001b[?25hRequirement already satisfied: smart-open>=1.8.1 in /opt/conda/lib/python3.7/site-packages (from gensim==4.0.0->cntext) (5.2.1)\r\n",
      "Requirement already satisfied: scipy>=0.18.1 in /opt/conda/lib/python3.7/site-packages (from gensim==4.0.0->cntext) (1.7.3)\r\n",
      "Requirement already satisfied: threadpoolctl>=2.0.0 in /opt/conda/lib/python3.7/site-packages (from scikit-learn==1.0->cntext) (3.1.0)\r\n",
      "Requirement already satisfied: joblib>=0.11 in /opt/conda/lib/python3.7/site-packages (from scikit-learn==1.0->cntext) (1.1.0)\r\n",
      "Requirement already satisfied: cycler>=0.10 in /opt/conda/lib/python3.7/site-packages (from matplotlib->cntext) (0.11.0)\r\n",
      "Requirement already satisfied: kiwisolver>=1.0.1 in /opt/conda/lib/python3.7/site-packages (from matplotlib->cntext) (1.4.2)\r\n",
      "Requirement already satisfied: pillow>=6.2.0 in /opt/conda/lib/python3.7/site-packages (from matplotlib->cntext) (9.1.1)\r\n",
      "Requirement already satisfied: fonttools>=4.22.0 in /opt/conda/lib/python3.7/site-packages (from matplotlib->cntext) (4.33.3)\r\n",
      "Requirement already satisfied: packaging>=20.0 in /opt/conda/lib/python3.7/site-packages (from matplotlib->cntext) (21.3)\r\n",
      "Requirement already satisfied: python-dateutil>=2.7 in /opt/conda/lib/python3.7/site-packages (from matplotlib->cntext) (2.8.2)\r\n",
      "Requirement already satisfied: pyparsing>=2.2.1 in /opt/conda/lib/python3.7/site-packages (from matplotlib->cntext) (3.0.9)\r\n",
      "Requirement already satisfied: six in /opt/conda/lib/python3.7/site-packages (from nltk->cntext) (1.16.0)\r\n",
      "Requirement already satisfied: prettytable in /opt/conda/lib/python3.7/site-packages (from pyecharts->cntext) (3.3.0)\r\n",
      "Requirement already satisfied: simplejson in /opt/conda/lib/python3.7/site-packages (from pyecharts->cntext) (3.17.6)\r\n",
      "Requirement already satisfied: jinja2 in /opt/conda/lib/python3.7/site-packages (from pyecharts->cntext) (3.1.2)\r\n",
      "Requirement already satisfied: typing-extensions in /opt/conda/lib/python3.7/site-packages (from kiwisolver>=1.0.1->matplotlib->cntext) (4.1.1)\r\n",
      "Requirement already satisfied: MarkupSafe>=2.0 in /opt/conda/lib/python3.7/site-packages (from jinja2->pyecharts->cntext) (2.0.1)\r\n",
      "Requirement already satisfied: importlib-metadata in /opt/conda/lib/python3.7/site-packages (from prettytable->pyecharts->cntext) (4.11.4)\r\n",
      "Requirement already satisfied: wcwidth in /opt/conda/lib/python3.7/site-packages (from prettytable->pyecharts->cntext) (0.2.5)\r\n",
      "Requirement already satisfied: zipp>=0.5 in /opt/conda/lib/python3.7/site-packages (from importlib-metadata->prettytable->pyecharts->cntext) (3.8.0)\r\n",
      "Installing collected packages: numpy, mittens, scikit-learn, pyecharts, gensim, cntext\r\n",
      "  Attempting uninstall: numpy\r\n",
      "    Found existing installation: numpy 1.21.6\r\n",
      "    Uninstalling numpy-1.21.6:\r\n",
      "      Successfully uninstalled numpy-1.21.6\r\n",
      "  Attempting uninstall: scikit-learn\r\n",
      "    Found existing installation: scikit-learn 1.0.2\r\n",
      "    Uninstalling scikit-learn-1.0.2:\r\n",
      "      Successfully uninstalled scikit-learn-1.0.2\r\n",
      "  Attempting uninstall: gensim\r\n",
      "    Found existing installation: gensim 4.0.1\r\n",
      "    Uninstalling gensim-4.0.1:\r\n",
      "      Successfully uninstalled gensim-4.0.1\r\n",
      "\u001b[31mERROR: pip's dependency resolver does not currently take into account all the packages that are installed. This behaviour is the source of the following dependency conflicts.\r\n",
      "tensorflow-io 0.21.0 requires tensorflow-io-gcs-filesystem==0.21.0, which is not installed.\r\n",
      "dask-cudf 21.10.1 requires cupy-cuda114, which is not installed.\r\n",
      "beatrix-jupyterlab 3.1.7 requires google-cloud-bigquery-storage, which is not installed.\r\n",
      "xarray-einstats 0.2.2 requires numpy>=1.21, but you have numpy 1.20.0 which is incompatible.\r\n",
      "tfx-bsl 1.8.0 requires tensorflow!=2.0.*,!=2.1.*,!=2.2.*,!=2.3.*,!=2.4.*,!=2.5.*,!=2.6.*,!=2.7.*,<3,>=1.15.5, but you have tensorflow 2.6.4 which is incompatible.\r\n",
      "tensorflow 2.6.4 requires absl-py~=0.10, but you have absl-py 1.0.0 which is incompatible.\r\n",
      "tensorflow 2.6.4 requires numpy~=1.19.2, but you have numpy 1.20.0 which is incompatible.\r\n",
      "tensorflow 2.6.4 requires six~=1.15.0, but you have six 1.16.0 which is incompatible.\r\n",
      "tensorflow 2.6.4 requires typing-extensions<3.11,>=3.7, but you have typing-extensions 4.1.1 which is incompatible.\r\n",
      "tensorflow 2.6.4 requires wrapt~=1.12.1, but you have wrapt 1.14.1 which is incompatible.\r\n",
      "tensorflow-transform 1.8.0 requires tensorflow!=2.0.*,!=2.1.*,!=2.2.*,!=2.3.*,!=2.4.*,!=2.5.*,!=2.6.*,!=2.7.*,<2.9,>=1.15.5, but you have tensorflow 2.6.4 which is incompatible.\r\n",
      "tensorflow-serving-api 2.8.0 requires tensorflow<3,>=2.8.0, but you have tensorflow 2.6.4 which is incompatible.\r\n",
      "pdpbox 0.2.1 requires matplotlib==3.1.1, but you have matplotlib 3.5.2 which is incompatible.\r\n",
      "mlxtend 0.20.0 requires scikit-learn>=1.0.2, but you have scikit-learn 1.0 which is incompatible.\r\n",
      "imbalanced-learn 0.9.0 requires scikit-learn>=1.0.1, but you have scikit-learn 1.0 which is incompatible.\r\n",
      "gplearn 0.4.2 requires scikit-learn>=1.0.2, but you have scikit-learn 1.0 which is incompatible.\r\n",
      "flax 0.5.1 requires rich~=11.1.0, but you have rich 12.4.4 which is incompatible.\r\n",
      "featuretools 1.9.2 requires numpy>=1.21.0, but you have numpy 1.20.0 which is incompatible.\r\n",
      "dask-cudf 21.10.1 requires dask==2021.09.1, but you have dask 2022.2.0 which is incompatible.\r\n",
      "dask-cudf 21.10.1 requires distributed==2021.09.1, but you have distributed 2022.2.0 which is incompatible.\r\n",
      "apache-beam 2.39.0 requires dill<0.3.2,>=0.3.1.1, but you have dill 0.3.5.1 which is incompatible.\r\n",
      "apache-beam 2.39.0 requires httplib2<0.20.0,>=0.8, but you have httplib2 0.20.4 which is incompatible.\u001b[0m\u001b[31m\r\n",
      "\u001b[0mSuccessfully installed cntext-1.7.3 gensim-4.0.0 mittens-0.2 numpy-1.20.0 pyecharts-1.9.1 scikit-learn-1.0\r\n",
      "\u001b[33mWARNING: Running pip as the 'root' user can result in broken permissions and conflicting behaviour with the system package manager. It is recommended to use a virtual environment instead: https://pip.pypa.io/warnings/venv\u001b[0m\u001b[33m\r\n",
      "\u001b[0m"
     ]
    }
   ],
   "source": [
    "!pip install cntext"
   ]
  },
  {
   "cell_type": "markdown",
   "id": "5a647a27",
   "metadata": {
    "papermill": {
     "duration": 0.010006,
     "end_time": "2022-06-26T22:08:54.985983",
     "exception": false,
     "start_time": "2022-06-26T22:08:54.975977",
     "status": "completed"
    },
    "tags": []
   },
   "source": [
    "# 数据预处理"
   ]
  },
  {
   "cell_type": "code",
   "execution_count": 3,
   "id": "368a7979",
   "metadata": {
    "execution": {
     "iopub.execute_input": "2022-06-26T22:08:55.008478Z",
     "iopub.status.busy": "2022-06-26T22:08:55.008162Z",
     "iopub.status.idle": "2022-06-26T22:09:02.464637Z",
     "shell.execute_reply": "2022-06-26T22:09:02.463708Z"
    },
    "papermill": {
     "duration": 7.470639,
     "end_time": "2022-06-26T22:09:02.466777",
     "exception": false,
     "start_time": "2022-06-26T22:08:54.996138",
     "status": "completed"
    },
    "tags": []
   },
   "outputs": [
    {
     "data": {
      "text/html": [
       "<div>\n",
       "<style scoped>\n",
       "    .dataframe tbody tr th:only-of-type {\n",
       "        vertical-align: middle;\n",
       "    }\n",
       "\n",
       "    .dataframe tbody tr th {\n",
       "        vertical-align: top;\n",
       "    }\n",
       "\n",
       "    .dataframe thead th {\n",
       "        text-align: right;\n",
       "    }\n",
       "</style>\n",
       "<table border=\"1\" class=\"dataframe\">\n",
       "  <thead>\n",
       "    <tr style=\"text-align: right;\">\n",
       "      <th></th>\n",
       "      <th>news_id</th>\n",
       "      <th>keywords</th>\n",
       "      <th>desc</th>\n",
       "      <th>title</th>\n",
       "      <th>source</th>\n",
       "      <th>time</th>\n",
       "      <th>content</th>\n",
       "    </tr>\n",
       "  </thead>\n",
       "  <tbody>\n",
       "    <tr>\n",
       "      <th>0</th>\n",
       "      <td>470308283</td>\n",
       "      <td>借鉴：这篇最受欢迎校训，没有一个字讲学习</td>\n",
       "      <td>“我知道，我不是因为偶然才来到这个世界，我是为了践行一个平凡、美丽、无私的梦想而来的；我是为...</td>\n",
       "      <td>借鉴：这篇最受欢迎校训，没有一个字讲学习</td>\n",
       "      <td>龙乡教育</td>\n",
       "      <td>10-14 21:55</td>\n",
       "      <td>“我知道，我不是因为偶然才来到这个世界，我是为了践行一个平凡、美丽、无私的梦想而来的；我是为...</td>\n",
       "    </tr>\n",
       "    <tr>\n",
       "      <th>1</th>\n",
       "      <td>410240504</td>\n",
       "      <td>市民淘宝购物一年四度被忽悠 买货容易退货难</td>\n",
       "      <td>张女士提供豆皮有虫尸的证据照片。受访者供图淘宝上购物，一年被忽悠四次。这样的事情就被市民张女...</td>\n",
       "      <td>市民淘宝购物一年四度被忽悠 买货容易退货难</td>\n",
       "      <td>主流媒体-媒体平台入驻自媒体</td>\n",
       "      <td>03-24 14:13</td>\n",
       "      <td>张女士提供豆皮有虫尸的证据照片。受访者供图淘宝上购物，一年被忽悠四次。这样的事情就被市民张...</td>\n",
       "    </tr>\n",
       "    <tr>\n",
       "      <th>2</th>\n",
       "      <td>410933104</td>\n",
       "      <td>[统计]机械.电器类公司市场表现(20150407)</td>\n",
       "      <td>@名称代码收盘价日涨跌周涨跌月涨跌季涨跌深华新0000100.0000.00%0.00%0....</td>\n",
       "      <td>[统计]机械.电器类公司市场表现(20150407)</td>\n",
       "      <td>移动中金在线</td>\n",
       "      <td>04-08 06:40</td>\n",
       "      <td>@名称代码收盘价日涨跌周涨跌月涨跌季涨跌深华新0000100.0000.00%0.00%0....</td>\n",
       "    </tr>\n",
       "    <tr>\n",
       "      <th>3</th>\n",
       "      <td>470124533</td>\n",
       "      <td>[每日一技]四维绕杆跑练习</td>\n",
       "      <td>爱高体育，有趣兼有料的校园足球资讯平台。每日为你分享一招足球技巧！让你更懂得如何运用爱高安全...</td>\n",
       "      <td>[每日一技]四维绕杆跑练习</td>\n",
       "      <td>爱高体育mp</td>\n",
       "      <td>10-12 22:15</td>\n",
       "      <td>爱高体育，有趣兼有料的校园足球资讯平台。每日为你分享一招足球技巧！让你更懂得如何运用爱高安...</td>\n",
       "    </tr>\n",
       "    <tr>\n",
       "      <th>4</th>\n",
       "      <td>471705751</td>\n",
       "      <td>【漫展活动】风云小分队在YACA</td>\n",
       "      <td>大家期待已久的yaca万圣动漫音乐节终于来啦，风云动漫社の动物园小分队早早来到了展会现场布置...</td>\n",
       "      <td>【漫展活动】风云小分队在YACA</td>\n",
       "      <td>顺职风云动漫社</td>\n",
       "      <td>10-29 01:07</td>\n",
       "      <td>大家期待已久的yaca万圣动漫音乐节终于来啦，风云动漫社の动物园小分队早早来到了展会现场布...</td>\n",
       "    </tr>\n",
       "  </tbody>\n",
       "</table>\n",
       "</div>"
      ],
      "text/plain": [
       "     news_id                    keywords  \\\n",
       "0  470308283        借鉴：这篇最受欢迎校训，没有一个字讲学习   \n",
       "1  410240504       市民淘宝购物一年四度被忽悠 买货容易退货难   \n",
       "2  410933104  [统计]机械.电器类公司市场表现(20150407)   \n",
       "3  470124533               [每日一技]四维绕杆跑练习   \n",
       "4  471705751            【漫展活动】风云小分队在YACA   \n",
       "\n",
       "                                                desc  \\\n",
       "0  “我知道，我不是因为偶然才来到这个世界，我是为了践行一个平凡、美丽、无私的梦想而来的；我是为...   \n",
       "1  张女士提供豆皮有虫尸的证据照片。受访者供图淘宝上购物，一年被忽悠四次。这样的事情就被市民张女...   \n",
       "2  @名称代码收盘价日涨跌周涨跌月涨跌季涨跌深华新0000100.0000.00%0.00%0....   \n",
       "3  爱高体育，有趣兼有料的校园足球资讯平台。每日为你分享一招足球技巧！让你更懂得如何运用爱高安全...   \n",
       "4  大家期待已久的yaca万圣动漫音乐节终于来啦，风云动漫社の动物园小分队早早来到了展会现场布置...   \n",
       "\n",
       "                        title          source         time  \\\n",
       "0        借鉴：这篇最受欢迎校训，没有一个字讲学习            龙乡教育  10-14 21:55   \n",
       "1       市民淘宝购物一年四度被忽悠 买货容易退货难  主流媒体-媒体平台入驻自媒体  03-24 14:13   \n",
       "2  [统计]机械.电器类公司市场表现(20150407)          移动中金在线  04-08 06:40   \n",
       "3               [每日一技]四维绕杆跑练习          爱高体育mp  10-12 22:15   \n",
       "4            【漫展活动】风云小分队在YACA         顺职风云动漫社  10-29 01:07   \n",
       "\n",
       "                                             content  \n",
       "0  “我知道，我不是因为偶然才来到这个世界，我是为了践行一个平凡、美丽、无私的梦想而来的；我是为...  \n",
       "1   张女士提供豆皮有虫尸的证据照片。受访者供图淘宝上购物，一年被忽悠四次。这样的事情就被市民张...  \n",
       "2  @名称代码收盘价日涨跌周涨跌月涨跌季涨跌深华新0000100.0000.00%0.00%0....  \n",
       "3   爱高体育，有趣兼有料的校园足球资讯平台。每日为你分享一招足球技巧！让你更懂得如何运用爱高安...  \n",
       "4   大家期待已久的yaca万圣动漫音乐节终于来啦，风云动漫社の动物园小分队早早来到了展会现场布...  "
      ]
     },
     "execution_count": 3,
     "metadata": {},
     "output_type": "execute_result"
    }
   ],
   "source": [
    "df = pd.read_json(\"../input/data-text-mining/news2016zh_valid.json\", lines=True)\n",
    "df.head() # len(df)=76797 "
   ]
  },
  {
   "cell_type": "code",
   "execution_count": 4,
   "id": "47f7cf5c",
   "metadata": {
    "execution": {
     "iopub.execute_input": "2022-06-26T22:09:02.489450Z",
     "iopub.status.busy": "2022-06-26T22:09:02.489168Z",
     "iopub.status.idle": "2022-06-26T22:09:03.231600Z",
     "shell.execute_reply": "2022-06-26T22:09:03.230535Z"
    },
    "papermill": {
     "duration": 0.756032,
     "end_time": "2022-06-26T22:09:03.233928",
     "exception": false,
     "start_time": "2022-06-26T22:09:02.477896",
     "status": "completed"
    },
    "tags": []
   },
   "outputs": [
    {
     "data": {
      "text/plain": [
       "(array(['什么样的医改才能让钟南山院士满意', '七旬老人，外籍女子，长城', '卖盘飙升致压制大盘反弹 等待上攻机会'],\n",
       "       dtype=object),\n",
       " array(['什么样的医改才能让钟南山院士满意', '北京：外籍女子在长城上撞死七旬老人', '卖盘飙升致压制大盘反弹 等待上攻机会'],\n",
       "       dtype=object))"
      ]
     },
     "execution_count": 4,
     "metadata": {},
     "output_type": "execute_result"
    }
   ],
   "source": [
    "from sklearn.model_selection import train_test_split\n",
    "x, y = df[\"keywords\"].values, df[\"title\"].values\n",
    "x_train, x_test, y_train, y_test = train_test_split(x, y, test_size=0.25)\n",
    "x_train[:3], y_train[:3]"
   ]
  },
  {
   "cell_type": "code",
   "execution_count": 5,
   "id": "78c523c0",
   "metadata": {
    "execution": {
     "iopub.execute_input": "2022-06-26T22:09:03.257228Z",
     "iopub.status.busy": "2022-06-26T22:09:03.256933Z",
     "iopub.status.idle": "2022-06-26T22:09:03.263273Z",
     "shell.execute_reply": "2022-06-26T22:09:03.262165Z"
    },
    "papermill": {
     "duration": 0.020316,
     "end_time": "2022-06-26T22:09:03.265399",
     "exception": false,
     "start_time": "2022-06-26T22:09:03.245083",
     "status": "completed"
    },
    "tags": []
   },
   "outputs": [],
   "source": [
    "def read_keywords_title(data_dir):\n",
    "    \"\"\"读取keywords_title文本序列和目标文本序列\"\"\"\n",
    "    df = pd.read_json(data_dir, lines=True)\n",
    "    x, y = df[\"keywords\"].values, df[\"title\"].values\n",
    "    return (x.astype(str).tolist(), y.astype(str).tolist())"
   ]
  },
  {
   "cell_type": "code",
   "execution_count": 6,
   "id": "cc669e40",
   "metadata": {
    "execution": {
     "iopub.execute_input": "2022-06-26T22:09:03.288639Z",
     "iopub.status.busy": "2022-06-26T22:09:03.287824Z",
     "iopub.status.idle": "2022-06-26T22:09:06.118973Z",
     "shell.execute_reply": "2022-06-26T22:09:06.117860Z"
    },
    "papermill": {
     "duration": 2.845428,
     "end_time": "2022-06-26T22:09:06.121437",
     "exception": false,
     "start_time": "2022-06-26T22:09:03.276009",
     "status": "completed"
    },
    "tags": []
   },
   "outputs": [
    {
     "name": "stdout",
     "output_type": "stream",
     "text": [
      "title： 借鉴：这篇最受欢迎校训，没有一个字讲学习 keywords: 借鉴：这篇最受欢迎校训，没有一个字讲学习\n",
      "title： 市民淘宝购物一年四度被忽悠 买货容易退货难 keywords: 市民淘宝购物一年四度被忽悠 买货容易退货难\n",
      "title： [统计]机械.电器类公司市场表现(20150407) keywords: [统计]机械.电器类公司市场表现(20150407)\n"
     ]
    }
   ],
   "source": [
    "data_dir = \"../input/data-text-mining/news2016zh_valid.json\"\n",
    "\n",
    "k2t_data = read_keywords_title(data_dir)\n",
    "\n",
    "for x, y in zip(k2t_data[0][:3], k2t_data[1][:3]):\n",
    "    print('title：', y, 'keywords:', x[0:60])"
   ]
  },
  {
   "cell_type": "code",
   "execution_count": 7,
   "id": "3c3b006b",
   "metadata": {
    "execution": {
     "iopub.execute_input": "2022-06-26T22:09:06.143881Z",
     "iopub.status.busy": "2022-06-26T22:09:06.143605Z",
     "iopub.status.idle": "2022-06-26T22:09:11.280823Z",
     "shell.execute_reply": "2022-06-26T22:09:11.279847Z"
    },
    "papermill": {
     "duration": 5.15094,
     "end_time": "2022-06-26T22:09:11.283167",
     "exception": false,
     "start_time": "2022-06-26T22:09:06.132227",
     "status": "completed"
    },
    "tags": []
   },
   "outputs": [],
   "source": [
    "import re\n",
    "import jieba\n",
    "import cntext as ct\n",
    "\n",
    "stopwords = ct.load_pkl_dict('STOPWORDS.pkl')['STOPWORDS']['chinese']\n",
    "\n",
    "def tokenize(lines):\n",
    "    tokenized_list = []\n",
    "    for line in lines:\n",
    "        words = jieba.lcut(line, cut_all=False)\n",
    "        words = [w for w in words if w not in stopwords]\n",
    "        tokenized_list.append(words)\n",
    "    return tokenized_list"
   ]
  },
  {
   "cell_type": "code",
   "execution_count": 8,
   "id": "0a00217b",
   "metadata": {
    "execution": {
     "iopub.execute_input": "2022-06-26T22:09:11.306067Z",
     "iopub.status.busy": "2022-06-26T22:09:11.305776Z",
     "iopub.status.idle": "2022-06-26T22:09:11.321974Z",
     "shell.execute_reply": "2022-06-26T22:09:11.321141Z"
    },
    "papermill": {
     "duration": 0.029984,
     "end_time": "2022-06-26T22:09:11.323977",
     "exception": false,
     "start_time": "2022-06-26T22:09:11.293993",
     "status": "completed"
    },
    "tags": []
   },
   "outputs": [],
   "source": [
    "import collections\n",
    "class Vocab:  #@save\n",
    "    \"\"\"文本词表\"\"\"\n",
    "    def __init__(self, tokens=None, min_freq=0, reserved_tokens=None):\n",
    "        if tokens is None:\n",
    "            tokens = []\n",
    "        if reserved_tokens is None:\n",
    "            reserved_tokens = []\n",
    "        # 按出现频率排序\n",
    "        counter = count_corpus(tokens)\n",
    "        self._token_freqs = sorted(counter.items(), key=lambda x: x[1],\n",
    "                                   reverse=True)\n",
    "        # 未知词元的索引为0\n",
    "        self.idx_to_token = ['<unk>'] + reserved_tokens\n",
    "        self.token_to_idx = {token: idx\n",
    "                             for idx, token in enumerate(self.idx_to_token)}\n",
    "        for token, freq in self._token_freqs:\n",
    "            if freq < min_freq:\n",
    "                break\n",
    "            if token not in self.token_to_idx:\n",
    "                self.idx_to_token.append(token)\n",
    "                self.token_to_idx[token] = len(self.idx_to_token) - 1\n",
    "\n",
    "    def __len__(self):\n",
    "        return len(self.idx_to_token)\n",
    "\n",
    "    def __getitem__(self, tokens):\n",
    "        if not isinstance(tokens, (list, tuple)):\n",
    "            return self.token_to_idx.get(tokens, self.unk)\n",
    "        return [self.__getitem__(token) for token in tokens]\n",
    "\n",
    "    def to_tokens(self, indices):\n",
    "        if not isinstance(indices, (list, tuple)):\n",
    "            return self.idx_to_token[indices]\n",
    "        return [self.idx_to_token[index] for index in indices]\n",
    "\n",
    "    @property\n",
    "    def unk(self):  # 未知词元的索引为0\n",
    "        return 0\n",
    "\n",
    "    @property\n",
    "    def token_freqs(self):\n",
    "        return self._token_freqs\n",
    "\n",
    "def count_corpus(tokens):  #@save\n",
    "    \"\"\"统计词元的频率\"\"\"\n",
    "    # 这里的tokens是1D列表或2D列表\n",
    "    if len(tokens) == 0 or isinstance(tokens[0], list):\n",
    "        # 将词元列表展平成一个列表\n",
    "        tokens = [token for line in tokens for token in line]\n",
    "    return collections.Counter(tokens)\n",
    "\n",
    "def truncate_pad(line, num_steps, padding_token):\n",
    "    \"\"\"截取或者填充token序列\"\"\"\n",
    "    if len(line) > num_steps:\n",
    "        return line[:num_steps]  # Truncate\n",
    "    return line + [padding_token] * (num_steps - len(line))  # Pad"
   ]
  },
  {
   "cell_type": "code",
   "execution_count": 9,
   "id": "a20602f7",
   "metadata": {
    "execution": {
     "iopub.execute_input": "2022-06-26T22:09:11.345442Z",
     "iopub.status.busy": "2022-06-26T22:09:11.345181Z",
     "iopub.status.idle": "2022-06-26T22:09:11.352338Z",
     "shell.execute_reply": "2022-06-26T22:09:11.351515Z"
    },
    "papermill": {
     "duration": 0.020327,
     "end_time": "2022-06-26T22:09:11.354315",
     "exception": false,
     "start_time": "2022-06-26T22:09:11.333988",
     "status": "completed"
    },
    "tags": []
   },
   "outputs": [],
   "source": [
    "def turn_type(x, dtype):\n",
    "    return x.type(dtype)\n",
    "\n",
    "def get_sum(x, add):\n",
    "    return x.sum(add)\n",
    "\n",
    "def build_array_text(lines, vocab, num_steps):\n",
    "    \"\"\"Transform text sequences of machine translation into minibatches.\"\"\"\n",
    "    lines = [vocab[l] for l in lines]\n",
    "    lines = [l + [vocab['<eos>']] for l in lines]\n",
    "    array = torch.tensor([\n",
    "        truncate_pad(l, num_steps, vocab['<pad>']) for l in lines])\n",
    "    valid_len = get_sum(turn_type(array != vocab['<pad>'], torch.int32), 1)\n",
    "    return array, valid_len"
   ]
  },
  {
   "cell_type": "code",
   "execution_count": 10,
   "id": "7780cea6",
   "metadata": {
    "execution": {
     "iopub.execute_input": "2022-06-26T22:09:11.375955Z",
     "iopub.status.busy": "2022-06-26T22:09:11.375224Z",
     "iopub.status.idle": "2022-06-26T22:09:11.380258Z",
     "shell.execute_reply": "2022-06-26T22:09:11.379378Z"
    },
    "papermill": {
     "duration": 0.017816,
     "end_time": "2022-06-26T22:09:11.382257",
     "exception": false,
     "start_time": "2022-06-26T22:09:11.364441",
     "status": "completed"
    },
    "tags": []
   },
   "outputs": [],
   "source": [
    "def tensor2loader(data_arrays, batch_size, shuffle=True):\n",
    "    \"\"\"构建torch.dataloader\"\"\"\n",
    "    dataset = data.TensorDataset(*data_arrays)\n",
    "    return data.DataLoader(dataset, batch_size, shuffle=shuffle)"
   ]
  },
  {
   "cell_type": "code",
   "execution_count": 11,
   "id": "98d7884f",
   "metadata": {
    "execution": {
     "iopub.execute_input": "2022-06-26T22:09:11.404546Z",
     "iopub.status.busy": "2022-06-26T22:09:11.404273Z",
     "iopub.status.idle": "2022-06-26T22:09:53.250200Z",
     "shell.execute_reply": "2022-06-26T22:09:53.249221Z"
    },
    "papermill": {
     "duration": 41.859941,
     "end_time": "2022-06-26T22:09:53.252551",
     "exception": false,
     "start_time": "2022-06-26T22:09:11.392610",
     "status": "completed"
    },
    "tags": []
   },
   "outputs": [
    {
     "name": "stderr",
     "output_type": "stream",
     "text": [
      "Building prefix dict from the default dictionary ...\n",
      "Dumping model to file cache /tmp/jieba.cache\n",
      "Loading model cost 0.995 seconds.\n",
      "Prefix dict has been built successfully.\n"
     ]
    }
   ],
   "source": [
    "num_steps = 15 # time_step=20\n",
    "batch_size = 64\n",
    "\n",
    "source = tokenize(k2t_data[1])\n",
    "target = tokenize(k2t_data[0])\n",
    "\n",
    "src_vocab = Vocab(source, min_freq=5, reserved_tokens=['<pad>', '<bos>', '<eos>'])\n",
    "tgt_vocab = Vocab(target, min_freq=5, reserved_tokens=['<pad>', '<bos>', '<eos>'])\n",
    "\n",
    "src_array, src_valid_len = build_array_text(source, src_vocab, num_steps)\n",
    "tgt_array, tgt_valid_len = build_array_text(target, tgt_vocab, num_steps)\n",
    "\n",
    "data_arrays = (src_array, src_valid_len, tgt_array, tgt_valid_len)\n",
    "data_iter = tensor2loader(data_arrays, batch_size)"
   ]
  },
  {
   "cell_type": "code",
   "execution_count": 12,
   "id": "7a08157f",
   "metadata": {
    "execution": {
     "iopub.execute_input": "2022-06-26T22:09:53.274999Z",
     "iopub.status.busy": "2022-06-26T22:09:53.274685Z",
     "iopub.status.idle": "2022-06-26T22:09:53.281150Z",
     "shell.execute_reply": "2022-06-26T22:09:53.280160Z"
    },
    "papermill": {
     "duration": 0.020734,
     "end_time": "2022-06-26T22:09:53.284114",
     "exception": false,
     "start_time": "2022-06-26T22:09:53.263380",
     "status": "completed"
    },
    "tags": []
   },
   "outputs": [
    {
     "data": {
      "text/plain": [
       "(torch.Size([76797, 15]),\n",
       " torch.Size([76797]),\n",
       " torch.Size([76797, 15]),\n",
       " torch.Size([76797]))"
      ]
     },
     "execution_count": 12,
     "metadata": {},
     "output_type": "execute_result"
    }
   ],
   "source": [
    "src_array.shape, src_valid_len.shape, tgt_array.shape, tgt_valid_len.shape"
   ]
  },
  {
   "cell_type": "code",
   "execution_count": 13,
   "id": "e3634fdf",
   "metadata": {
    "execution": {
     "iopub.execute_input": "2022-06-26T22:09:53.306124Z",
     "iopub.status.busy": "2022-06-26T22:09:53.305861Z",
     "iopub.status.idle": "2022-06-26T22:09:53.312853Z",
     "shell.execute_reply": "2022-06-26T22:09:53.311869Z"
    },
    "papermill": {
     "duration": 0.02053,
     "end_time": "2022-06-26T22:09:53.315027",
     "exception": false,
     "start_time": "2022-06-26T22:09:53.294497",
     "status": "completed"
    },
    "tags": []
   },
   "outputs": [],
   "source": [
    "#@save\n",
    "class Seq2SeqEncoder(nn.Module):\n",
    "    \"\"\"用于序列到序列学习的循环神经网络编码器\"\"\"\n",
    "    def __init__(self, vocab_size, embed_size, num_hiddens, num_layers,\n",
    "                 dropout=0, **kwargs):\n",
    "        super(Seq2SeqEncoder, self).__init__(**kwargs)\n",
    "        # 嵌入层\n",
    "        self.embedding = nn.Embedding(vocab_size, embed_size)\n",
    "        self.rnn = nn.GRU(embed_size, num_hiddens, num_layers,\n",
    "                          dropout=dropout)\n",
    "\n",
    "    def forward(self, X, *args):\n",
    "        # 输出'X'的形状：(batch_size,num_steps,embed_size)\n",
    "        X = self.embedding(X)\n",
    "        # 在循环神经网络模型中，第一个轴对应于时间步\n",
    "        X = X.permute(1, 0, 2)\n",
    "        # 如果未提及状态，则默认为0\n",
    "        output, state = self.rnn(X)\n",
    "        # output的形状:(num_steps,batch_size,num_hiddens)\n",
    "        # state[0]的形状:(num_layers,batch_size,num_hiddens)\n",
    "        return output, state\n"
   ]
  },
  {
   "cell_type": "code",
   "execution_count": 14,
   "id": "2e989a7f",
   "metadata": {
    "execution": {
     "iopub.execute_input": "2022-06-26T22:09:53.336870Z",
     "iopub.status.busy": "2022-06-26T22:09:53.336621Z",
     "iopub.status.idle": "2022-06-26T22:09:53.345034Z",
     "shell.execute_reply": "2022-06-26T22:09:53.344094Z"
    },
    "papermill": {
     "duration": 0.021686,
     "end_time": "2022-06-26T22:09:53.347018",
     "exception": false,
     "start_time": "2022-06-26T22:09:53.325332",
     "status": "completed"
    },
    "tags": []
   },
   "outputs": [],
   "source": [
    "class Seq2SeqDecoder(nn.Module):\n",
    "    \"\"\"用于序列到序列学习的循环神经网络解码器\"\"\"\n",
    "    def __init__(self, vocab_size, embed_size, num_hiddens, num_layers,\n",
    "                 dropout=0, **kwargs):\n",
    "        super(Seq2SeqDecoder, self).__init__(**kwargs)\n",
    "        self.embedding = nn.Embedding(vocab_size, embed_size)\n",
    "        self.rnn = nn.GRU(embed_size + num_hiddens, num_hiddens, num_layers,\n",
    "                          dropout=dropout)\n",
    "        self.dense = nn.Linear(num_hiddens, vocab_size)\n",
    "\n",
    "    def init_state(self, enc_outputs, *args):\n",
    "        return enc_outputs[1]\n",
    "\n",
    "    def forward(self, X, state):\n",
    "        # 输出'X'的形状：(batch_size,num_steps,embed_size)\n",
    "        X = self.embedding(X).permute(1, 0, 2)\n",
    "        # 广播context，使其具有与X相同的num_steps\n",
    "        context = state[-1].repeat(X.shape[0], 1, 1)\n",
    "        X_and_context = torch.cat((X, context), 2)\n",
    "        output, state = self.rnn(X_and_context, state)\n",
    "        output = self.dense(output).permute(1, 0, 2)\n",
    "        # output的形状:(batch_size,num_steps,vocab_size)\n",
    "        # state[0]的形状:(num_layers,batch_size,num_hiddens)\n",
    "        return output, state"
   ]
  },
  {
   "cell_type": "code",
   "execution_count": 15,
   "id": "c41b93b2",
   "metadata": {
    "execution": {
     "iopub.execute_input": "2022-06-26T22:09:53.369770Z",
     "iopub.status.busy": "2022-06-26T22:09:53.368904Z",
     "iopub.status.idle": "2022-06-26T22:09:53.376312Z",
     "shell.execute_reply": "2022-06-26T22:09:53.375399Z"
    },
    "papermill": {
     "duration": 0.020994,
     "end_time": "2022-06-26T22:09:53.378469",
     "exception": false,
     "start_time": "2022-06-26T22:09:53.357475",
     "status": "completed"
    },
    "tags": []
   },
   "outputs": [],
   "source": [
    "class EncoderDecoder(nn.Module):\n",
    "    \"\"\"The base class for the encoder-decoder architecture.\"\"\"\n",
    "    def __init__(self, encoder, decoder, **kwargs):\n",
    "        super(EncoderDecoder, self).__init__(**kwargs)\n",
    "        self.encoder = encoder\n",
    "        self.decoder = decoder\n",
    "\n",
    "    def forward(self, enc_X, dec_X, *args):\n",
    "        enc_outputs = self.encoder(enc_X, *args)\n",
    "        dec_state = self.decoder.init_state(enc_outputs, *args)\n",
    "        return self.decoder(dec_X, dec_state)"
   ]
  },
  {
   "cell_type": "code",
   "execution_count": 16,
   "id": "c45743f5",
   "metadata": {
    "execution": {
     "iopub.execute_input": "2022-06-26T22:09:53.404878Z",
     "iopub.status.busy": "2022-06-26T22:09:53.404021Z",
     "iopub.status.idle": "2022-06-26T22:09:53.410509Z",
     "shell.execute_reply": "2022-06-26T22:09:53.409573Z"
    },
    "papermill": {
     "duration": 0.021775,
     "end_time": "2022-06-26T22:09:53.412726",
     "exception": false,
     "start_time": "2022-06-26T22:09:53.390951",
     "status": "completed"
    },
    "tags": []
   },
   "outputs": [],
   "source": [
    "#@save\n",
    "def sequence_mask(X, valid_len, value=0):\n",
    "    \"\"\"在序列中屏蔽不相关的项\"\"\"\n",
    "    maxlen = X.size(1)\n",
    "    mask = torch.arange((maxlen), dtype=torch.float32,\n",
    "                        device=X.device)[None, :] < valid_len[:, None]\n",
    "    X[~mask] = value\n",
    "    return X"
   ]
  },
  {
   "cell_type": "code",
   "execution_count": 17,
   "id": "7864c4ee",
   "metadata": {
    "execution": {
     "iopub.execute_input": "2022-06-26T22:09:53.439638Z",
     "iopub.status.busy": "2022-06-26T22:09:53.438763Z",
     "iopub.status.idle": "2022-06-26T22:09:53.446662Z",
     "shell.execute_reply": "2022-06-26T22:09:53.445656Z"
    },
    "papermill": {
     "duration": 0.023834,
     "end_time": "2022-06-26T22:09:53.449074",
     "exception": false,
     "start_time": "2022-06-26T22:09:53.425240",
     "status": "completed"
    },
    "tags": []
   },
   "outputs": [],
   "source": [
    "#@save\n",
    "class MaskedSoftmaxCELoss(nn.CrossEntropyLoss):\n",
    "    \"\"\"带遮蔽的softmax交叉熵损失函数\"\"\"\n",
    "    # pred的形状：(batch_size,num_steps,vocab_size)\n",
    "    # label的形状：(batch_size,num_steps)\n",
    "    # valid_len的形状：(batch_size,)\n",
    "    def forward(self, pred, label, valid_len):\n",
    "        weights = torch.ones_like(label)\n",
    "        weights = sequence_mask(weights, valid_len)\n",
    "        self.reduction='none'\n",
    "        unweighted_loss = super(MaskedSoftmaxCELoss, self).forward(\n",
    "            pred.permute(0, 2, 1), label)\n",
    "        weighted_loss = (unweighted_loss * weights).mean(dim=1)\n",
    "        return weighted_loss"
   ]
  },
  {
   "cell_type": "code",
   "execution_count": 18,
   "id": "9636f22e",
   "metadata": {
    "execution": {
     "iopub.execute_input": "2022-06-26T22:09:53.475479Z",
     "iopub.status.busy": "2022-06-26T22:09:53.474607Z",
     "iopub.status.idle": "2022-06-26T22:09:53.485035Z",
     "shell.execute_reply": "2022-06-26T22:09:53.484204Z"
    },
    "papermill": {
     "duration": 0.025008,
     "end_time": "2022-06-26T22:09:53.487040",
     "exception": false,
     "start_time": "2022-06-26T22:09:53.462032",
     "status": "completed"
    },
    "tags": []
   },
   "outputs": [],
   "source": [
    "#@save\n",
    "def predict_seq2seq(net, src_sentence, src_vocab, tgt_vocab, num_steps,\n",
    "                    device):\n",
    "    \"\"\"序列到序列模型的预测\n",
    "       src_sentense是以_!_为分隔符的句子\n",
    "    \"\"\"\n",
    "    # 在预测时将net设置为评估模式\n",
    "    net.eval()\n",
    "    src_tokens = src_vocab[src_sentence.split('_!_')] + [\n",
    "        src_vocab['<eos>']]\n",
    "    enc_valid_len = torch.tensor([len(src_tokens)], device=device)\n",
    "    src_tokens = truncate_pad(src_tokens, num_steps, src_vocab['<pad>'])\n",
    "    \n",
    "    # 添加批量轴\n",
    "    enc_X = torch.unsqueeze(\n",
    "        torch.tensor(src_tokens, dtype=torch.long, device=device), dim=0)\n",
    "    enc_outputs = net.encoder(enc_X, enc_valid_len)\n",
    "    dec_state = net.decoder.init_state(enc_outputs, enc_valid_len)\n",
    "    # 添加批量轴\n",
    "    dec_X = torch.unsqueeze(torch.tensor(\n",
    "        [tgt_vocab['<bos>']], dtype=torch.long, device=device), dim=0)\n",
    "    output_seq, attention_weight_seq = [], []\n",
    "    for _ in range(num_steps):\n",
    "        Y, dec_state = net.decoder(dec_X, dec_state)\n",
    "        # 我们使用具有预测最高可能性的词元，作为解码器在下一时间步的输入\n",
    "        dec_X = Y.argmax(dim=2)\n",
    "        pred = dec_X.squeeze(dim=0).type(torch.int32).item()\n",
    "        # 一旦序列结束词元被预测，输出序列的生成就完成了\n",
    "        if pred == tgt_vocab['<eos>']:\n",
    "            break\n",
    "        output_seq.append(pred)\n",
    "    return ' '.join(tgt_vocab.to_tokens(output_seq)), attention_weight_seq"
   ]
  },
  {
   "cell_type": "code",
   "execution_count": 19,
   "id": "129186e8",
   "metadata": {
    "execution": {
     "iopub.execute_input": "2022-06-26T22:09:53.511614Z",
     "iopub.status.busy": "2022-06-26T22:09:53.510798Z",
     "iopub.status.idle": "2022-06-26T22:09:53.515705Z",
     "shell.execute_reply": "2022-06-26T22:09:53.514870Z"
    },
    "papermill": {
     "duration": 0.019281,
     "end_time": "2022-06-26T22:09:53.517578",
     "exception": false,
     "start_time": "2022-06-26T22:09:53.498297",
     "status": "completed"
    },
    "tags": []
   },
   "outputs": [],
   "source": [
    "src_sentence = '市民_!_ 淘宝_!_购物_!_一年_!_ 四度_!_ 被_!_ 忽悠_!_ _!_买货_!_容易_!_退货_!_难'"
   ]
  },
  {
   "cell_type": "code",
   "execution_count": 20,
   "id": "9feb19f5",
   "metadata": {
    "execution": {
     "iopub.execute_input": "2022-06-26T22:09:53.540904Z",
     "iopub.status.busy": "2022-06-26T22:09:53.540386Z",
     "iopub.status.idle": "2022-06-26T22:09:53.545102Z",
     "shell.execute_reply": "2022-06-26T22:09:53.544279Z"
    },
    "papermill": {
     "duration": 0.01817,
     "end_time": "2022-06-26T22:09:53.547040",
     "exception": false,
     "start_time": "2022-06-26T22:09:53.528870",
     "status": "completed"
    },
    "tags": []
   },
   "outputs": [],
   "source": [
    "from tqdm.auto import tqdm"
   ]
  },
  {
   "cell_type": "code",
   "execution_count": 21,
   "id": "e9af5199",
   "metadata": {
    "execution": {
     "iopub.execute_input": "2022-06-26T22:09:53.569331Z",
     "iopub.status.busy": "2022-06-26T22:09:53.568610Z",
     "iopub.status.idle": "2022-06-26T22:27:22.760492Z",
     "shell.execute_reply": "2022-06-26T22:27:22.759537Z"
    },
    "papermill": {
     "duration": 1049.220179,
     "end_time": "2022-06-26T22:27:22.777582",
     "exception": false,
     "start_time": "2022-06-26T22:09:53.557403",
     "status": "completed"
    },
    "tags": []
   },
   "outputs": [
    {
     "name": "stdout",
     "output_type": "stream",
     "text": [
      "尝试预测的kewords:市民_!_ 淘宝_!_购物_!_一年_!_ 四度_!_ 被_!_ 忽悠_!_ _!_买货_!_容易_!_退货_!_难\n"
     ]
    },
    {
     "data": {
      "application/vnd.jupyter.widget-view+json": {
       "model_id": "2defdd296f114ddcba088e5d4aaca69a",
       "version_major": 2,
       "version_minor": 0
      },
      "text/plain": [
       "  0%|          | 0/50 [00:00<?, ?it/s]"
      ]
     },
     "metadata": {},
     "output_type": "display_data"
    },
    {
     "name": "stdout",
     "output_type": "stream",
     "text": [
      "||epoch:0||\n",
      "||epoch_loss:3.339498281478882||预测的title:市民 <unk> <unk> <unk> <unk> <unk>   <unk> <unk>\n",
      "||epoch:1||\n",
      "||epoch_loss:2.277987241744995||预测的title:<unk> <unk>\n",
      "||epoch:2||\n",
      "||epoch_loss:1.6775989532470703||预测的title:市民 市民 <unk> <unk> <unk> <unk> <unk>   <unk> <unk> <unk> <unk> 难 <unk> 难\n",
      "||epoch:3||\n",
      "||epoch_loss:1.3784126043319702||预测的title:<unk> <unk>\n",
      "||epoch:4||\n",
      "||epoch_loss:1.22378671169281||预测的title:市民 <unk> <unk> <unk> <unk> <unk> <unk> <unk> <unk> <unk> <unk> <unk> <unk> <unk> <unk>\n",
      "||epoch:5||\n",
      "||epoch_loss:1.125881314277649||预测的title:购物 购物\n",
      "||epoch:6||\n",
      "||epoch_loss:1.0609477758407593||预测的title:市民 <unk> <unk> <unk> <unk> <unk> <unk>\n",
      "||epoch:7||\n",
      "||epoch_loss:1.0210938453674316||预测的title:喝酒 <unk> <unk> 一年 <unk> <unk> <unk>   <unk> 难 <unk> 难 ; 花样 退货\n",
      "||epoch:8||\n",
      "||epoch_loss:0.9652506709098816||预测的title:市民 <unk> <unk> <unk> <unk> <unk>   <unk> 购物 基因 奶茶 难 击败 馆 功效\n",
      "||epoch:9||\n",
      "||epoch_loss:0.9325369596481323||预测的title:市民 <unk> <unk> <unk> <unk> <unk>   一年 退货 女朋友 移动 移动 S7 移动 移动\n",
      "||epoch:10||\n",
      "||epoch_loss:0.9288362860679626||预测的title:市民 <unk>\n",
      "||epoch:11||\n",
      "||epoch_loss:0.8894870281219482||预测的title:市民 <unk> 一年 <unk> <unk> <unk> 购物 一年 ; # 34 ; # 34 ;\n",
      "||epoch:12||\n",
      "||epoch_loss:0.8753527998924255||预测的title:市民 <unk> <unk> <unk> <unk> <unk> <unk> <unk> <unk> <unk> <unk>   <unk> <unk> <unk>\n",
      "||epoch:13||\n",
      "||epoch_loss:0.8386397957801819||预测的title:市民 <unk> 一年 <unk> <unk> <unk> 一年   一年 <unk> 一年 <unk> 一年 <unk> 一年\n",
      "||epoch:14||\n",
      "||epoch_loss:0.8355472087860107||预测的title:市民 购物 <unk> 购物 购物 <unk> <unk>   <unk> <unk> <unk> 容易 S7 <unk> 容易\n",
      "||epoch:15||\n",
      "||epoch_loss:0.8352625370025635||预测的title:购物 <unk> <unk> 一年 <unk> 一年 ; # <unk> <unk> 一年 ; <unk> 一年 ;\n",
      "||epoch:16||\n",
      "||epoch_loss:0.7972203493118286||预测的title:市民 <unk> 一年 一年 <unk> 一年 ; <unk> 34 ; <unk> 34 ; <unk> 一年\n",
      "||epoch:17||\n",
      "||epoch_loss:0.8049465417861938||预测的title:市民 <unk>\n",
      "||epoch:18||\n",
      "||epoch_loss:0.8038686513900757||预测的title:市民 <unk> <unk>\n",
      "||epoch:19||\n",
      "||epoch_loss:0.8912968039512634||预测的title:市民 <unk> <unk> 一年 <unk> <unk>   <unk>   <unk> <unk> <unk>   <unk> <unk>\n",
      "||epoch:20||\n",
      "||epoch_loss:0.7947341799736023||预测的title:市民 <unk> 发飙 一年 一年 <unk> 一年 ; 一年   一年   一年   一年\n",
      "||epoch:21||\n",
      "||epoch_loss:0.8046867847442627||预测的title:市民 <unk> 购物 购物 <unk> <unk>   <unk> <unk> <unk> 34   <unk> <unk> <unk>\n",
      "||epoch:22||\n",
      "||epoch_loss:0.788728654384613||预测的title:市民 <unk> 拍卖 一年 <unk> 一年 ; <unk>   一年 斤 斤 一年 ; 奶茶\n",
      "||epoch:23||\n",
      "||epoch_loss:0.8235417008399963||预测的title:市民 <unk> 购物 <unk> <unk> <unk> <unk> <unk>   <unk> <unk> 一年 黄 <unk> 第二\n",
      "||epoch:24||\n",
      "||epoch_loss:0.858863115310669||预测的title:购物 <unk> 购物 购物 <unk> <unk>   <unk> <unk> 容易 纳税 塔罗 财报 令 绮\n",
      "||epoch:25||\n",
      "||epoch_loss:0.988673210144043||预测的title:土耳其 <unk> 购物 <unk> <unk> 容易 不肯   市区 退货 退货 购物 隔离 大美 大美\n",
      "||epoch:26||\n",
      "||epoch_loss:0.935403048992157||预测的title:市民 购物 购物 <unk> 一年 <unk> <unk> <unk>   基因 购物\n",
      "||epoch:27||\n",
      "||epoch_loss:0.8607556223869324||预测的title:市民 <unk> <unk> 一年 <unk> 退货 退货 <unk> 一年 <unk> 一年 ; 站上 万宝 委内瑞拉\n",
      "||epoch:28||\n",
      "||epoch_loss:0.8474091291427612||预测的title:市民 <unk> 购物 一年 <unk> 一年   <unk> 一年 <unk> 州 扎根 第三者 印刷 同业\n",
      "||epoch:29||\n",
      "||epoch_loss:0.8054027557373047||预测的title:市民 <unk> 购物 一年 <unk> 一年 一年 <unk> 一年   一年 ; 一点 志愿者 浙江省\n",
      "||epoch:30||\n",
      "||epoch_loss:0.775118350982666||预测的title:市民 <unk> 购物 <unk> <unk> <unk>   <unk> <unk> 一年 市民 基因 志愿者 添加 车险\n",
      "||epoch:31||\n",
      "||epoch_loss:0.897216796875||预测的title:市民 <unk> <unk> <unk> 一年 <unk> 难 容易 一年 <unk> <unk> 难 一年 <unk> 难\n",
      "||epoch:32||\n",
      "||epoch_loss:0.8372150659561157||预测的title:<unk> 一年\n",
      "||epoch:33||\n",
      "||epoch_loss:0.8351332545280457||预测的title:市民 <unk> 购物 购物 <unk> <unk> 难 <unk> 购物 <unk> <unk>\n",
      "||epoch:34||\n",
      "||epoch_loss:0.8298509120941162||预测的title:市民 <unk> 处 <unk> <unk> 难 <unk>   一年 处 竞选 呦 呦 呦 实务\n",
      "||epoch:35||\n",
      "||epoch_loss:0.9194696545600891||预测的title:市民 <unk> 容易 <unk> <unk>   容易 退货 看点 隔离 皮草 监测 忠诚度 畅销 女尸\n",
      "||epoch:36||\n",
      "||epoch_loss:0.8754317164421082||预测的title:市民 <unk> 志愿者 <unk> <unk>   <unk> 呆萌 容易 退货 聊天 进补 富翁 大发 财气\n",
      "||epoch:37||\n",
      "||epoch_loss:0.8731111884117126||预测的title:市民 <unk> 拍卖 容易 <unk> 侵权   容易 容易 丑 退货 就近 家园 肾结石 家园\n",
      "||epoch:38||\n",
      "||epoch_loss:0.8434142470359802||预测的title:市民 <unk> 购物 购物 <unk>   <unk> 容易 丑 难 歌王 扎根 十二届 孤立 还款\n",
      "||epoch:39||\n",
      "||epoch_loss:0.8515424132347107||预测的title:市民 <unk> <unk> 容易 一年 <unk>   一年 <unk> 一年 告诉 主管 利器 主管 仓库\n",
      "||epoch:40||\n",
      "||epoch_loss:0.85306715965271||预测的title:市民 <unk> <unk> <unk> 一年 <unk>   <unk> 一年 斤 骗保 侵权 战法 种菜 Live\n",
      "||epoch:41||\n",
      "||epoch_loss:0.8273957371711731||预测的title:市民 <unk> <unk> 容易 一年 <unk>\n",
      "||epoch:42||\n",
      "||epoch_loss:0.8214064836502075||预测的title:市民 <unk> 购物 <unk> <unk>   一年 购物 34 速度 扎根 扎根 扎根 均线 申城\n",
      "||epoch:43||\n",
      "||epoch_loss:0.804634690284729||预测的title:市民 <unk> 出战 <unk> 一年 抽 居 居 北京市 退货 深爱 一斤 托 拼图 联创\n",
      "||epoch:44||\n",
      "||epoch_loss:0.811377763748169||预测的title:市民 <unk> <unk> 一年 <unk>\n",
      "||epoch:45||\n",
      "||epoch_loss:0.797194242477417||预测的title:市民 <unk> <unk> 购物 <unk> 难 <unk> 局势   <unk> 容易 退货 第九 湄公河 畔\n",
      "||epoch:46||\n",
      "||epoch_loss:0.8222939968109131||预测的title:市民 <unk> <unk> 购物 <unk> 难 <unk>   市民 虚拟 献血 做作业 公公 公公 天呐\n",
      "||epoch:47||\n",
      "||epoch_loss:0.803791344165802||预测的title:<unk> <unk>\n",
      "||epoch:48||\n",
      "||epoch_loss:0.7859461903572083||预测的title:市民 <unk> 购物 <unk> <unk> 一年\n",
      "||epoch:49||\n",
      "||epoch_loss:0.7731571793556213||预测的title:市民 <unk> 购物 <unk> <unk>   市民 购物 难 刹车 C 义乌 汛期 打车 255\n"
     ]
    }
   ],
   "source": [
    "device = \"cuda\" if torch.cuda.is_available() else \"cpu\"\n",
    "embed_size, num_hiddens, num_layers, dropout = 50, 256, 2, 0.1\n",
    "encoder = Seq2SeqEncoder(len(src_vocab), embed_size, num_hiddens, num_layers,\n",
    "                        dropout)\n",
    "decoder = Seq2SeqDecoder(len(tgt_vocab), embed_size, num_hiddens, num_layers,\n",
    "                        dropout)\n",
    "net = EncoderDecoder(encoder, decoder)\n",
    "net.to(device)\n",
    "lr, num_epochs = 5e-3, 50\n",
    "optimizer = torch.optim.Adam(net.parameters(), lr=lr)\n",
    "loss = MaskedSoftmaxCELoss()\n",
    "print(\"尝试预测的kewords:{}\".format(src_sentence))\n",
    "for epoch in tqdm(range(num_epochs)):\n",
    "    net.train()\n",
    "    print(\"||epoch:{}||\".format(epoch))\n",
    "    epoch_loss = 0.\n",
    "    for batch in data_iter:\n",
    "        optimizer.zero_grad()\n",
    "        X, X_valid_len, Y, Y_valid_len = [x.to(device) for x in batch]\n",
    "        bos = torch.tensor([tgt_vocab['<bos>']] * Y.shape[0],\n",
    "                      device=device).reshape(-1, 1)\n",
    "        dec_input = torch.cat([bos, Y[:, :-1]], 1)  # 强制教学\n",
    "        Y_hat, _ = net(X, dec_input, X_valid_len)\n",
    "        l = loss(Y_hat, Y, Y_valid_len)\n",
    "        l.sum().backward()      # 损失函数的标量进行“反向传播”\n",
    "        num_tokens = Y_valid_len.sum()\n",
    "        optimizer.step()\n",
    "        with torch.no_grad():\n",
    "            epoch_loss += l.sum() / X.size(0)\n",
    "    epoch_loss = epoch_loss / len(data_iter)\n",
    "    epoch_title, _ = predict_seq2seq(net, src_sentence, src_vocab, tgt_vocab, num_steps, device)\n",
    "    print(\"||epoch_loss:{}||预测的title:{}\".format(epoch_loss, epoch_title))"
   ]
  }
 ],
 "metadata": {
  "kernelspec": {
   "display_name": "Python 3.6.13 ('pytorch')",
   "language": "python",
   "name": "python3"
  },
  "language_info": {
   "codemirror_mode": {
    "name": "ipython",
    "version": 3
   },
   "file_extension": ".py",
   "mimetype": "text/x-python",
   "name": "python",
   "nbconvert_exporter": "python",
   "pygments_lexer": "ipython3",
   "version": "3.6.13"
  },
  "papermill": {
   "default_parameters": {},
   "duration": 1144.775544,
   "end_time": "2022-06-26T22:27:25.604441",
   "environment_variables": {},
   "exception": null,
   "input_path": "__notebook__.ipynb",
   "output_path": "__notebook__.ipynb",
   "parameters": {},
   "start_time": "2022-06-26T22:08:20.828897",
   "version": "2.3.4"
  },
  "vscode": {
   "interpreter": {
    "hash": "e7563111a394ee039718cbf2b4990b9826ca0823d94a258612fc5986fce06182"
   }
  },
  "widgets": {
   "application/vnd.jupyter.widget-state+json": {
    "state": {
     "0940f557f89c4e4e90828ac23a2e32e9": {
      "model_module": "@jupyter-widgets/base",
      "model_module_version": "1.2.0",
      "model_name": "LayoutModel",
      "state": {
       "_model_module": "@jupyter-widgets/base",
       "_model_module_version": "1.2.0",
       "_model_name": "LayoutModel",
       "_view_count": null,
       "_view_module": "@jupyter-widgets/base",
       "_view_module_version": "1.2.0",
       "_view_name": "LayoutView",
       "align_content": null,
       "align_items": null,
       "align_self": null,
       "border": null,
       "bottom": null,
       "display": null,
       "flex": null,
       "flex_flow": null,
       "grid_area": null,
       "grid_auto_columns": null,
       "grid_auto_flow": null,
       "grid_auto_rows": null,
       "grid_column": null,
       "grid_gap": null,
       "grid_row": null,
       "grid_template_areas": null,
       "grid_template_columns": null,
       "grid_template_rows": null,
       "height": null,
       "justify_content": null,
       "justify_items": null,
       "left": null,
       "margin": null,
       "max_height": null,
       "max_width": null,
       "min_height": null,
       "min_width": null,
       "object_fit": null,
       "object_position": null,
       "order": null,
       "overflow": null,
       "overflow_x": null,
       "overflow_y": null,
       "padding": null,
       "right": null,
       "top": null,
       "visibility": null,
       "width": null
      }
     },
     "0e31e7c68d13470683db1467c326450c": {
      "model_module": "@jupyter-widgets/controls",
      "model_module_version": "1.5.0",
      "model_name": "DescriptionStyleModel",
      "state": {
       "_model_module": "@jupyter-widgets/controls",
       "_model_module_version": "1.5.0",
       "_model_name": "DescriptionStyleModel",
       "_view_count": null,
       "_view_module": "@jupyter-widgets/base",
       "_view_module_version": "1.2.0",
       "_view_name": "StyleView",
       "description_width": ""
      }
     },
     "0ee4cd5bca3f48298d6b75a13357820e": {
      "model_module": "@jupyter-widgets/base",
      "model_module_version": "1.2.0",
      "model_name": "LayoutModel",
      "state": {
       "_model_module": "@jupyter-widgets/base",
       "_model_module_version": "1.2.0",
       "_model_name": "LayoutModel",
       "_view_count": null,
       "_view_module": "@jupyter-widgets/base",
       "_view_module_version": "1.2.0",
       "_view_name": "LayoutView",
       "align_content": null,
       "align_items": null,
       "align_self": null,
       "border": null,
       "bottom": null,
       "display": null,
       "flex": null,
       "flex_flow": null,
       "grid_area": null,
       "grid_auto_columns": null,
       "grid_auto_flow": null,
       "grid_auto_rows": null,
       "grid_column": null,
       "grid_gap": null,
       "grid_row": null,
       "grid_template_areas": null,
       "grid_template_columns": null,
       "grid_template_rows": null,
       "height": null,
       "justify_content": null,
       "justify_items": null,
       "left": null,
       "margin": null,
       "max_height": null,
       "max_width": null,
       "min_height": null,
       "min_width": null,
       "object_fit": null,
       "object_position": null,
       "order": null,
       "overflow": null,
       "overflow_x": null,
       "overflow_y": null,
       "padding": null,
       "right": null,
       "top": null,
       "visibility": null,
       "width": null
      }
     },
     "2952d95b90cf415d99a020a9a977746b": {
      "model_module": "@jupyter-widgets/controls",
      "model_module_version": "1.5.0",
      "model_name": "DescriptionStyleModel",
      "state": {
       "_model_module": "@jupyter-widgets/controls",
       "_model_module_version": "1.5.0",
       "_model_name": "DescriptionStyleModel",
       "_view_count": null,
       "_view_module": "@jupyter-widgets/base",
       "_view_module_version": "1.2.0",
       "_view_name": "StyleView",
       "description_width": ""
      }
     },
     "2defdd296f114ddcba088e5d4aaca69a": {
      "model_module": "@jupyter-widgets/controls",
      "model_module_version": "1.5.0",
      "model_name": "HBoxModel",
      "state": {
       "_dom_classes": [],
       "_model_module": "@jupyter-widgets/controls",
       "_model_module_version": "1.5.0",
       "_model_name": "HBoxModel",
       "_view_count": null,
       "_view_module": "@jupyter-widgets/controls",
       "_view_module_version": "1.5.0",
       "_view_name": "HBoxView",
       "box_style": "",
       "children": [
        "IPY_MODEL_4b6d7f1044fb4d59929027758afeee61",
        "IPY_MODEL_72e5a0908cba4ce4a40d0d852e42b3a3",
        "IPY_MODEL_e56900f2b10d473fb35dc1be44a4203e"
       ],
       "layout": "IPY_MODEL_f77a18d76bee4d589e6397fc23fb5ef8"
      }
     },
     "4b6d7f1044fb4d59929027758afeee61": {
      "model_module": "@jupyter-widgets/controls",
      "model_module_version": "1.5.0",
      "model_name": "HTMLModel",
      "state": {
       "_dom_classes": [],
       "_model_module": "@jupyter-widgets/controls",
       "_model_module_version": "1.5.0",
       "_model_name": "HTMLModel",
       "_view_count": null,
       "_view_module": "@jupyter-widgets/controls",
       "_view_module_version": "1.5.0",
       "_view_name": "HTMLView",
       "description": "",
       "description_tooltip": null,
       "layout": "IPY_MODEL_0ee4cd5bca3f48298d6b75a13357820e",
       "placeholder": "​",
       "style": "IPY_MODEL_0e31e7c68d13470683db1467c326450c",
       "value": "100%"
      }
     },
     "72e5a0908cba4ce4a40d0d852e42b3a3": {
      "model_module": "@jupyter-widgets/controls",
      "model_module_version": "1.5.0",
      "model_name": "FloatProgressModel",
      "state": {
       "_dom_classes": [],
       "_model_module": "@jupyter-widgets/controls",
       "_model_module_version": "1.5.0",
       "_model_name": "FloatProgressModel",
       "_view_count": null,
       "_view_module": "@jupyter-widgets/controls",
       "_view_module_version": "1.5.0",
       "_view_name": "ProgressView",
       "bar_style": "success",
       "description": "",
       "description_tooltip": null,
       "layout": "IPY_MODEL_c83594394ee647529e634a1dbc7317f6",
       "max": 50,
       "min": 0,
       "orientation": "horizontal",
       "style": "IPY_MODEL_bf5681ee73f34e66b992172a49ab5c92",
       "value": 50
      }
     },
     "bf5681ee73f34e66b992172a49ab5c92": {
      "model_module": "@jupyter-widgets/controls",
      "model_module_version": "1.5.0",
      "model_name": "ProgressStyleModel",
      "state": {
       "_model_module": "@jupyter-widgets/controls",
       "_model_module_version": "1.5.0",
       "_model_name": "ProgressStyleModel",
       "_view_count": null,
       "_view_module": "@jupyter-widgets/base",
       "_view_module_version": "1.2.0",
       "_view_name": "StyleView",
       "bar_color": null,
       "description_width": ""
      }
     },
     "c83594394ee647529e634a1dbc7317f6": {
      "model_module": "@jupyter-widgets/base",
      "model_module_version": "1.2.0",
      "model_name": "LayoutModel",
      "state": {
       "_model_module": "@jupyter-widgets/base",
       "_model_module_version": "1.2.0",
       "_model_name": "LayoutModel",
       "_view_count": null,
       "_view_module": "@jupyter-widgets/base",
       "_view_module_version": "1.2.0",
       "_view_name": "LayoutView",
       "align_content": null,
       "align_items": null,
       "align_self": null,
       "border": null,
       "bottom": null,
       "display": null,
       "flex": null,
       "flex_flow": null,
       "grid_area": null,
       "grid_auto_columns": null,
       "grid_auto_flow": null,
       "grid_auto_rows": null,
       "grid_column": null,
       "grid_gap": null,
       "grid_row": null,
       "grid_template_areas": null,
       "grid_template_columns": null,
       "grid_template_rows": null,
       "height": null,
       "justify_content": null,
       "justify_items": null,
       "left": null,
       "margin": null,
       "max_height": null,
       "max_width": null,
       "min_height": null,
       "min_width": null,
       "object_fit": null,
       "object_position": null,
       "order": null,
       "overflow": null,
       "overflow_x": null,
       "overflow_y": null,
       "padding": null,
       "right": null,
       "top": null,
       "visibility": null,
       "width": null
      }
     },
     "e56900f2b10d473fb35dc1be44a4203e": {
      "model_module": "@jupyter-widgets/controls",
      "model_module_version": "1.5.0",
      "model_name": "HTMLModel",
      "state": {
       "_dom_classes": [],
       "_model_module": "@jupyter-widgets/controls",
       "_model_module_version": "1.5.0",
       "_model_name": "HTMLModel",
       "_view_count": null,
       "_view_module": "@jupyter-widgets/controls",
       "_view_module_version": "1.5.0",
       "_view_name": "HTMLView",
       "description": "",
       "description_tooltip": null,
       "layout": "IPY_MODEL_0940f557f89c4e4e90828ac23a2e32e9",
       "placeholder": "​",
       "style": "IPY_MODEL_2952d95b90cf415d99a020a9a977746b",
       "value": " 50/50 [17:23&lt;00:00, 20.86s/it]"
      }
     },
     "f77a18d76bee4d589e6397fc23fb5ef8": {
      "model_module": "@jupyter-widgets/base",
      "model_module_version": "1.2.0",
      "model_name": "LayoutModel",
      "state": {
       "_model_module": "@jupyter-widgets/base",
       "_model_module_version": "1.2.0",
       "_model_name": "LayoutModel",
       "_view_count": null,
       "_view_module": "@jupyter-widgets/base",
       "_view_module_version": "1.2.0",
       "_view_name": "LayoutView",
       "align_content": null,
       "align_items": null,
       "align_self": null,
       "border": null,
       "bottom": null,
       "display": null,
       "flex": null,
       "flex_flow": null,
       "grid_area": null,
       "grid_auto_columns": null,
       "grid_auto_flow": null,
       "grid_auto_rows": null,
       "grid_column": null,
       "grid_gap": null,
       "grid_row": null,
       "grid_template_areas": null,
       "grid_template_columns": null,
       "grid_template_rows": null,
       "height": null,
       "justify_content": null,
       "justify_items": null,
       "left": null,
       "margin": null,
       "max_height": null,
       "max_width": null,
       "min_height": null,
       "min_width": null,
       "object_fit": null,
       "object_position": null,
       "order": null,
       "overflow": null,
       "overflow_x": null,
       "overflow_y": null,
       "padding": null,
       "right": null,
       "top": null,
       "visibility": null,
       "width": null
      }
     }
    },
    "version_major": 2,
    "version_minor": 0
   }
  }
 },
 "nbformat": 4,
 "nbformat_minor": 5
}
