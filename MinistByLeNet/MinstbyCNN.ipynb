{
 "cells": [
  {
   "cell_type": "code",
   "execution_count": 1,
   "id": "877f4769",
   "metadata": {
    "ExecuteTime": {
     "end_time": "2022-04-11T16:57:20.460038Z",
     "start_time": "2022-04-11T16:57:19.842208Z"
    }
   },
   "outputs": [],
   "source": [
    "import torch\n",
    "import numpy as np\n",
    "import torch.nn as nn\n",
    "import torch.nn.functional as F"
   ]
  },
  {
   "cell_type": "markdown",
   "id": "4c0a6d7b",
   "metadata": {},
   "source": [
    "## 数据下载"
   ]
  },
  {
   "cell_type": "code",
   "execution_count": 2,
   "id": "f1199dc7",
   "metadata": {
    "ExecuteTime": {
     "end_time": "2022-04-11T16:57:20.642000Z",
     "start_time": "2022-04-11T16:57:20.461323Z"
    }
   },
   "outputs": [
    {
     "name": "stdout",
     "output_type": "stream",
     "text": [
      "train_data: torch.Size([60000, 28, 28])\n",
      "train_labels: torch.Size([60000])\n",
      "test_data: torch.Size([10000, 28, 28])\n"
     ]
    },
    {
     "name": "stderr",
     "output_type": "stream",
     "text": [
      "C:\\Users\\15710\\Anaconda3\\envs\\pytorch\\lib\\site-packages\\torchvision\\datasets\\mnist.py:62: UserWarning: train_data has been renamed data\n",
      "  warnings.warn(\"train_data has been renamed data\")\n",
      "C:\\Users\\15710\\Anaconda3\\envs\\pytorch\\lib\\site-packages\\torchvision\\datasets\\mnist.py:52: UserWarning: train_labels has been renamed targets\n",
      "  warnings.warn(\"train_labels has been renamed targets\")\n",
      "C:\\Users\\15710\\Anaconda3\\envs\\pytorch\\lib\\site-packages\\torchvision\\datasets\\mnist.py:67: UserWarning: test_data has been renamed data\n",
      "  warnings.warn(\"test_data has been renamed data\")\n"
     ]
    }
   ],
   "source": [
    "import torchvision\n",
    "import torch.utils.data.dataloader as Data\n",
    "\n",
    "train_data = torchvision.datasets.FashionMNIST(\n",
    "    '../data', train=True, transform=torchvision.transforms.ToTensor(), download=True)\n",
    "test_data = torchvision.datasets.FashionMNIST(\n",
    "    '../data', train=False, transform=torchvision.transforms.ToTensor())\n",
    "print(\"train_data:\", train_data.train_data.size())\n",
    "print(\"train_labels:\", train_data.train_labels.size())\n",
    "print(\"test_data:\", test_data.test_data.size())"
   ]
  },
  {
   "cell_type": "code",
   "execution_count": 3,
   "id": "71f0e740",
   "metadata": {
    "ExecuteTime": {
     "end_time": "2022-04-11T16:57:20.657271Z",
     "start_time": "2022-04-11T16:57:20.644790Z"
    }
   },
   "outputs": [],
   "source": [
    "train_loader = Data.DataLoader(dataset=train_data, batch_size=64, shuffle=True)\n",
    "test_loader = Data.DataLoader(dataset=test_data, batch_size=64)"
   ]
  },
  {
   "cell_type": "code",
   "execution_count": 4,
   "id": "031f9665",
   "metadata": {
    "ExecuteTime": {
     "end_time": "2022-04-11T16:57:20.730124Z",
     "start_time": "2022-04-11T16:57:20.659839Z"
    }
   },
   "outputs": [
    {
     "name": "stdout",
     "output_type": "stream",
     "text": [
      "torch.Size([64, 1, 28, 28])\n",
      "torch.Size([64])\n"
     ]
    }
   ],
   "source": [
    "# sample\n",
    "for x, y in train_loader:\n",
    "    print(x.shape) # Batch_size, Channel, Height, Width\n",
    "    print(y.shape)\n",
    "    break"
   ]
  },
  {
   "cell_type": "markdown",
   "id": "0c07157c",
   "metadata": {},
   "source": [
    "## 模型"
   ]
  },
  {
   "cell_type": "code",
   "execution_count": 5,
   "id": "a0a7b72a",
   "metadata": {
    "ExecuteTime": {
     "end_time": "2022-04-11T16:57:20.750957Z",
     "start_time": "2022-04-11T16:57:20.732118Z"
    },
    "scrolled": false
   },
   "outputs": [
    {
     "name": "stdout",
     "output_type": "stream",
     "text": [
      "LeNet(\n",
      "  (conv1): Conv2d(1, 6, kernel_size=(5, 5), stride=(1, 1))\n",
      "  (pool): MaxPool2d(kernel_size=2, stride=2, padding=0, dilation=1, ceil_mode=False)\n",
      "  (conv2): Conv2d(6, 16, kernel_size=(5, 5), stride=(1, 1))\n",
      "  (fc1): Linear(in_features=256, out_features=120, bias=True)\n",
      "  (fc2): Linear(in_features=120, out_features=84, bias=True)\n",
      "  (fc3): Linear(in_features=84, out_features=10, bias=True)\n",
      ")\n"
     ]
    }
   ],
   "source": [
    "# LeNet-5\n",
    "device = \"cuda\" if torch.cuda.is_available() else \"cpu\"\n",
    "\n",
    "num_class = 10\n",
    "class LeNet(nn.Module):\n",
    "    def __init__(self, n_class):\n",
    "        super(LeNet, self).__init__()\n",
    "        self.conv1 = nn.Conv2d(1, 6, 5) #insize:28  outsize: 28-5+1 = 24\n",
    "        self.pool = nn.MaxPool2d(2, 2)\n",
    "        self.conv2 = nn.Conv2d(6, 16, 5)\n",
    "        self.fc1 = nn.Linear(16 * 4 * 4, 120)\n",
    "        self.fc2 = nn.Linear(120, 84)\n",
    "        self.fc3 = nn.Linear(84, n_class)\n",
    "\n",
    "    def forward(self, x):\n",
    "#         print(x.shape)\n",
    "        x = self.pool(F.relu(self.conv1(x)))  # outsize: 24/2 = 12\n",
    "#         print(x.shape)\n",
    "        x = self.pool(F.relu(self.conv2(x))) # (12-5+1=8)/2 = 4\n",
    "#         print(x.shape)\n",
    "        x = x.view(-1, 16 * 4 * 4) # channel * 4 * 4\n",
    "        x = F.relu(self.fc1(x))\n",
    "        x = F.relu(self.fc2(x))\n",
    "        x = self.fc3(x)\n",
    "        return x\n",
    "\n",
    "net = LeNet(num_class)\n",
    "net.to(device)\n",
    "print(net)"
   ]
  },
  {
   "cell_type": "markdown",
   "id": "a160bb86",
   "metadata": {},
   "source": [
    "## 测试函数"
   ]
  },
  {
   "cell_type": "code",
   "execution_count": 6,
   "id": "f37934c9",
   "metadata": {
    "ExecuteTime": {
     "end_time": "2022-04-11T16:57:20.765647Z",
     "start_time": "2022-04-11T16:57:20.753159Z"
    }
   },
   "outputs": [],
   "source": [
    " # evaluation--------------------------------\n",
    "def evaluation(net, test_data, test_loader):\n",
    "    net.eval()\n",
    "    eval_loss = 0.\n",
    "    eval_acc = 0.\n",
    "    with torch.no_grad():\n",
    "        for X, y in test_loader:\n",
    "            X, y = X.to(device), y.to(device)\n",
    "            pred = net(X)\n",
    "            l = loss(pred, y)\n",
    "            eval_loss += l.cpu().item()\n",
    "            pred = torch.max(pred, 1)[1] # torch.max() [0]返回最大值 [1]最大值的索引\n",
    "            num_correct = (pred == y).sum() # 预测正确数\n",
    "            eval_acc += num_correct\n",
    "        print('Test Loss: {:.6f}, Acc: {:.6f}'.format(eval_loss / (len(\n",
    "                test_data)), eval_acc / (len(test_data))))\n",
    "    return eval_loss/len(test_data), eval_acc/len(test_data)"
   ]
  },
  {
   "cell_type": "markdown",
   "id": "d3752740",
   "metadata": {},
   "source": [
    " # 推理一张图片类别\n",
    "classes = ['T恤', '裤子', '套头衫', '连衣裙', '外套', '凉鞋', 衬衫', '运动鞋', '包', '靴子']\n",
    "def infer(net, img, device):\n",
    "    net.eval()\n",
    "    with torch.no_grad():\n",
    "    X = X.to(device)\n",
    "    pred = net(X)\n",
    "    pred = torch.max(pred, 1)[1]\n",
    "    show(img)\n",
    "    print(\"鉴定为:\"+ classes[pred])"
   ]
  },
  {
   "cell_type": "markdown",
   "id": "ab722df5",
   "metadata": {},
   "source": [
    "## 训练函数"
   ]
  },
  {
   "cell_type": "code",
   "execution_count": 12,
   "id": "0b137e85",
   "metadata": {
    "ExecuteTime": {
     "end_time": "2022-04-11T17:03:25.690025Z",
     "start_time": "2022-04-11T17:00:30.199908Z"
    },
    "scrolled": false
   },
   "outputs": [
    {
     "name": "stdout",
     "output_type": "stream",
     "text": [
      "training on cpu\n",
      "epoch 1\n",
      "Test Loss: 0.007629, Acc: 0.827800\n",
      "Train Loss: 0.011662, Acc: 0.718650\n",
      "epoch 2\n",
      "Test Loss: 0.006239, Acc: 0.850000\n",
      "Train Loss: 0.006333, Acc: 0.850017\n",
      "epoch 3\n",
      "Test Loss: 0.005782, Acc: 0.862700\n",
      "Train Loss: 0.005441, Acc: 0.869717\n",
      "epoch 4\n",
      "Test Loss: 0.006048, Acc: 0.858300\n",
      "Train Loss: 0.004976, Acc: 0.881917\n",
      "epoch 5\n",
      "Test Loss: 0.005352, Acc: 0.871600\n",
      "Train Loss: 0.004688, Acc: 0.887367\n"
     ]
    }
   ],
   "source": [
    "net = LeNet(num_class)\n",
    "net.to(device)\n",
    "# 超参数\n",
    "lr = 2e-1\n",
    "num_epochs = 5\n",
    "optimizer = torch.optim.SGD(net.parameters(), lr=lr)\n",
    "# 指数衰减  ---以指数衰减,gamma代表指数函数的底数---\n",
    "# ExpLR = torch.optim.lr_scheduler.ExponentialLR(optimizer, gamma=0.98)\n",
    "# 固定衰减  ---按固定步长step_size衰减学习率---\n",
    "# StepLR = torch.optim.lr_scheduler.StepLR(optimizer, step_size=1, gamma=0.01)\n",
    "# 多步长衰减  ---在milestones的区间[1, 3]的区间右侧衰减学习率---\n",
    "# MultiStepLR = torch.optim.lr_scheduler.MultiStepLR(optimizer, milestones=[1, 3], gamma=0.01)\n",
    "# 余弦退火 ---学习率按周期性变化---\n",
    "CosineLR = torch.optim.lr_scheduler.CosineAnnealingLR(optimizer, T_max=2, eta_min=0) # T_max:余弦函数周期, eta_min:学习率最小值(0表示至少为正)\n",
    "\n",
    "loss = nn.CrossEntropyLoss()\n",
    "history = {\n",
    "    \"train_loss\": [],\n",
    "    \"train_acc\": [],\n",
    "    \"test_loss\": [],\n",
    "    \"test_acc\": []\n",
    "}\n",
    "\n",
    "\n",
    "print(\"training on\", device)\n",
    "for epoch in range(num_epochs):\n",
    "    print('epoch {}'.format(epoch + 1))\n",
    "    # training-----------------------------\n",
    "    net.train()\n",
    "    train_loss = 0.\n",
    "    train_acc = 0.\n",
    "    \n",
    "    for X, y in train_loader:\n",
    "        X, y = X.to(device), y.to(device)\n",
    "        pred = net(X)\n",
    "        l = loss(pred, y)\n",
    "        optimizer.zero_grad()\n",
    "        l.backward()\n",
    "        optimizer.step()\n",
    "        with torch.no_grad():\n",
    "            train_loss += l.cpu().item()\n",
    "            pred = torch.max(pred, 1)[1] # torch.max() [0]返回最大值 [1]最大值的索引\n",
    "            num_correct = (pred == y).sum() # 预测正确数\n",
    "            train_acc += num_correct\n",
    "            \n",
    "    train_loss, train_acc = train_loss/len(train_data), train_acc/len(train_data)\n",
    "    test_loss, test_acc = evaluation(net, test_data, test_loader)\n",
    "    print('Train Loss: {:.6f}, Acc: {:.6f}'.format(train_loss, train_acc))\n",
    "   \n",
    "    history[\"train_loss\"].append(train_loss)\n",
    "    history[\"train_acc\"].append(train_acc)\n",
    "    history[\"test_loss\"].append(test_loss)\n",
    "    history[\"test_acc\"].append(test_acc)"
   ]
  },
  {
   "cell_type": "markdown",
   "id": "2908b62a",
   "metadata": {},
   "source": [
    "## 模型保存与加载"
   ]
  },
  {
   "cell_type": "code",
   "execution_count": 8,
   "id": "c488533d",
   "metadata": {
    "ExecuteTime": {
     "end_time": "2022-04-11T16:59:30.660002Z",
     "start_time": "2022-04-11T16:59:30.647329Z"
    }
   },
   "outputs": [],
   "source": [
    "torch.save(net.state_dict(), \"../model/LeNet_Minst.pt\")"
   ]
  },
  {
   "cell_type": "code",
   "execution_count": 9,
   "id": "4510783d",
   "metadata": {
    "ExecuteTime": {
     "end_time": "2022-04-11T16:59:30.723954Z",
     "start_time": "2022-04-11T16:59:30.664755Z"
    }
   },
   "outputs": [
    {
     "data": {
      "text/plain": [
       "<All keys matched successfully>"
      ]
     },
     "execution_count": 9,
     "metadata": {},
     "output_type": "execute_result"
    }
   ],
   "source": [
    "net = LeNet(num_class)\n",
    "net.load_state_dict(torch.load('../model/LetNet_Minst.pt', map_location=device))\n",
    "net.to(device)"
   ]
  },
  {
   "cell_type": "markdown",
   "id": "777d84df",
   "metadata": {},
   "source": [
    "## 绘图loss与Acc"
   ]
  },
  {
   "cell_type": "code",
   "execution_count": 10,
   "id": "66733192",
   "metadata": {
    "ExecuteTime": {
     "end_time": "2022-04-11T16:59:31.242155Z",
     "start_time": "2022-04-11T16:59:30.724952Z"
    }
   },
   "outputs": [],
   "source": [
    "import matplotlib.pyplot as plt\n",
    "%matplotlib inline\n",
    "\n",
    "def plot_loss(history):\n",
    "    fig, ax = plt.subplots()\n",
    "    fig.autofmt_xdate() \n",
    "    plt.xlabel(\"epochs\")\n",
    "    plt.ylabel(\"loss\")\n",
    "    idx = [i+1 for i in range(len(history[\"train_loss\"]))]\n",
    "    \n",
    "    l1, = plt.plot(idx,history[\"train_loss\"], color=\"red\")\n",
    "    l2, = plt.plot(idx,history[\"test_loss\"],color=\"green\")\n",
    "    plt.legend([l1, l2],\n",
    "           ['train_loss', 'test_loss'],\n",
    "           loc='upper right'\n",
    "    )\n",
    "    plt.show()\n",
    "\n",
    "def plot_acc(history):\n",
    "    fig, ax = plt.subplots()\n",
    "    plt.xlabel(\"epochs\")\n",
    "    plt.ylabel(\"acc\")\n",
    "    idx = [i+1 for i in range(len(history[\"train_acc\"]))]\n",
    "    l1, = plt.plot(idx,history[\"train_acc\"], color=\"red\")\n",
    "    l2, = plt.plot(idx,history[\"test_acc\"],color=\"green\")\n",
    "    plt.legend([l1, l2],\n",
    "           ['train_acc', 'test_acc'],\n",
    "           loc='upper right'\n",
    "    )\n",
    "    plt.show()"
   ]
  },
  {
   "cell_type": "code",
   "execution_count": 11,
   "id": "6e40c90e",
   "metadata": {
    "ExecuteTime": {
     "end_time": "2022-04-11T16:59:31.687247Z",
     "start_time": "2022-04-11T16:59:31.245095Z"
    }
   },
   "outputs": [
    {
     "data": {
      "image/png": "[encoded data removed]",
      "text/plain": [
       "<Figure size 432x288 with 1 Axes>"
      ]
     },
     "metadata": {
      "needs_background": "light"
     },
     "output_type": "display_data"
    },
    {
     "data": {
      "image/png": "[encoded data removed]",
      "text/plain": [
       "<Figure size 432x288 with 1 Axes>"
      ]
     },
     "metadata": {
      "needs_background": "light"
     },
     "output_type": "display_data"
    }
   ],
   "source": [
    "plot_acc(history=history)\n",
    "plot_loss(history=history)"
   ]
  }
 ],
 "metadata": {
  "kernelspec": {
   "display_name": "Python 3.6.13 ('pytorch')",
   "language": "python",
   "name": "python3"
  },
  "language_info": {
   "codemirror_mode": {
    "name": "ipython",
    "version": 3
   },
   "file_extension": ".py",
   "mimetype": "text/x-python",
   "name": "python",
   "nbconvert_exporter": "python",
   "pygments_lexer": "ipython3",
   "version": "3.6.13"
  },
  "toc": {
   "base_numbering": 1,
   "nav_menu": {},
   "number_sections": true,
   "sideBar": true,
   "skip_h1_title": false,
   "title_cell": "Table of Contents",
   "title_sidebar": "Contents",
   "toc_cell": false,
   "toc_position": {
    "height": "calc(100% - 180px)",
    "left": "10px",
    "top": "150px",
    "width": "165px"
   },
   "toc_section_display": true,
   "toc_window_display": false
  },
  "varInspector": {
   "cols": {
    "lenName": 16,
    "lenType": 16,
    "lenVar": 40
   },
   "kernels_config": {
    "python": {
     "delete_cmd_postfix": "",
     "delete_cmd_prefix": "del ",
     "library": "var_list.py",
     "varRefreshCmd": "print(var_dic_list())"
    },
    "r": {
     "delete_cmd_postfix": ") ",
     "delete_cmd_prefix": "rm(",
     "library": "var_list.r",
     "varRefreshCmd": "cat(var_dic_list()) "
    }
   },
   "position": {
    "height": "350.833px",
    "left": "1272.67px",
    "right": "20px",
    "top": "120px",
    "width": "350px"
   },
   "types_to_exclude": [
    "module",
    "function",
    "builtin_function_or_method",
    "instance",
    "_Feature"
   ],
   "window_display": false
  },
  "vscode": {
   "interpreter": {
    "hash": "e7563111a394ee039718cbf2b4990b9826ca0823d94a258612fc5986fce06182"
   }
  }
 },
 "nbformat": 4,
 "nbformat_minor": 5
}
