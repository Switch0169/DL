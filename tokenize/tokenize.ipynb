{
 "cells": [
  {
   "cell_type": "markdown",
   "id": "4631474b",
   "metadata": {},
   "source": [
    "# 数据预处理"
   ]
  },
  {
   "cell_type": "markdown",
   "id": "bbdc8ae5",
   "metadata": {},
   "source": [
    "### 数据读取"
   ]
  },
  {
   "cell_type": "code",
   "execution_count": 1,
   "id": "5eb7e45f",
   "metadata": {
    "ExecuteTime": {
     "end_time": "2022-05-14T13:19:31.847518Z",
     "start_time": "2022-05-14T13:19:31.455476Z"
    }
   },
   "outputs": [
    {
     "data": {
      "text/plain": [
       "'第918(1994)号决议\\n1994年5'"
      ]
     },
     "execution_count": 1,
     "metadata": {},
     "output_type": "execute_result"
    }
   ],
   "source": [
    "# 数据读取\n",
    "with open(\"../data/nlp/corpus.zh\", \"r\", encoding=\"utf-8\") as f:\n",
    "    data = f.read()\n",
    "data[:20]"
   ]
  },
  {
   "cell_type": "markdown",
   "id": "cbd2d416",
   "metadata": {},
   "source": [
    "### 分词"
   ]
  },
  {
   "cell_type": "code",
   "execution_count": 2,
   "id": "905f7801",
   "metadata": {
    "ExecuteTime": {
     "end_time": "2022-05-14T13:22:04.134008Z",
     "start_time": "2022-05-14T13:19:31.849864Z"
    }
   },
   "outputs": [
    {
     "name": "stderr",
     "output_type": "stream",
     "text": [
      "Building prefix dict from the default dictionary ...\n",
      "Loading model from cache C:\\Users\\15710\\AppData\\Local\\Temp\\jieba.cache\n",
      "Loading model cost 0.750 seconds.\n",
      "Prefix dict has been built successfully.\n"
     ]
    },
    {
     "data": {
      "text/plain": [
       "['第',\n",
       " '918',\n",
       " '(',\n",
       " '1994',\n",
       " ')',\n",
       " '号',\n",
       " '决议',\n",
       " '\\n',\n",
       " '1994',\n",
       " '年',\n",
       " '5',\n",
       " '月',\n",
       " '17',\n",
       " '日',\n",
       " '安全',\n",
       " '理事会',\n",
       " '第',\n",
       " '3377',\n",
       " '次',\n",
       " '会议']"
      ]
     },
     "execution_count": 2,
     "metadata": {},
     "output_type": "execute_result"
    }
   ],
   "source": [
    "import jieba\n",
    "\n",
    "text = jieba.lcut(data, cut_all=False)\n",
    "# 保存分词结果\n",
    "with open('../data/nlp/jiebacut_corpus.txt', 'w', encoding='utf-8') as f:\n",
    "    for word in text:\n",
    "        f.write(word + \" \")\n",
    "text[:20]"
   ]
  },
  {
   "cell_type": "code",
   "execution_count": 3,
   "id": "f13788f2",
   "metadata": {
    "ExecuteTime": {
     "end_time": "2022-05-14T13:22:06.670294Z",
     "start_time": "2022-05-14T13:22:04.137517Z"
    }
   },
   "outputs": [
    {
     "data": {
      "text/plain": [
       "['第', '918', '(', '1994', ')', '号', '决议', '1994', '年', '5']"
      ]
     },
     "execution_count": 3,
     "metadata": {},
     "output_type": "execute_result"
    }
   ],
   "source": [
    "# 读取jieba分词结果\n",
    "with open(\"../data/nlp/jiebacut_corpus.txt\", \"r\", encoding=\"utf-8\") as f:\n",
    "    jieba_text = f.read().split()\n",
    "jieba_text[:10]"
   ]
  },
  {
   "cell_type": "code",
   "execution_count": 4,
   "id": "4b13c078",
   "metadata": {
    "ExecuteTime": {
     "end_time": "2022-05-14T13:40:47.909930Z",
     "start_time": "2022-05-14T13:22:06.674263Z"
    }
   },
   "outputs": [
    {
     "data": {
      "text/plain": [
       "['第918',\n",
       " '(',\n",
       " '1994',\n",
       " ')',\n",
       " '号',\n",
       " '决议',\n",
       " '1994年',\n",
       " '5月',\n",
       " '17日',\n",
       " '安全',\n",
       " '理事会',\n",
       " '第3377',\n",
       " '次',\n",
       " '会议',\n",
       " '通过',\n",
       " '安全',\n",
       " '理事会',\n",
       " '，',\n",
       " '重申',\n",
       " '其']"
      ]
     },
     "execution_count": 4,
     "metadata": {},
     "output_type": "execute_result"
    }
   ],
   "source": [
    "# pkuseg\n",
    "import pkuseg\n",
    "seg = pkuseg.pkuseg()\n",
    "text = seg.cut(data)\n",
    "# 保存分词结果\n",
    "with open('../data/nlp/pkucut_corpus.txt', 'w', encoding='utf-8') as f:\n",
    "    for word in text:\n",
    "        f.write(word + \" \")\n",
    "text[:20]"
   ]
  },
  {
   "cell_type": "code",
   "execution_count": 9,
   "id": "98d0397c",
   "metadata": {
    "ExecuteTime": {
     "end_time": "2022-05-14T13:58:09.389566Z",
     "start_time": "2022-05-14T13:58:06.203408Z"
    }
   },
   "outputs": [
    {
     "data": {
      "text/plain": [
       "['第918',\n",
       " '(',\n",
       " '1994',\n",
       " ')',\n",
       " '号',\n",
       " '决议',\n",
       " '1994年',\n",
       " '5月',\n",
       " '17日',\n",
       " '安全',\n",
       " '理事会',\n",
       " '第3377',\n",
       " '次',\n",
       " '会议',\n",
       " '通过',\n",
       " '安全',\n",
       " '理事会',\n",
       " '，',\n",
       " '重申',\n",
       " '其']"
      ]
     },
     "execution_count": 9,
     "metadata": {},
     "output_type": "execute_result"
    }
   ],
   "source": [
    "# 读取pkuseg分词结果\n",
    "with open(\"../data/nlp/pkucut_corpus.txt\", \"r\", encoding=\"utf-8\") as f:\n",
    "    pku_text = f.read().split()\n",
    "pku_text[:20]"
   ]
  },
  {
   "cell_type": "markdown",
   "id": "3df3deba",
   "metadata": {},
   "source": [
    "### 词向量处理"
   ]
  },
  {
   "cell_type": "code",
   "execution_count": 11,
   "id": "dc9dcb5a",
   "metadata": {
    "ExecuteTime": {
     "end_time": "2022-05-14T14:08:46.943062Z",
     "start_time": "2022-05-14T14:05:43.681377Z"
    }
   },
   "outputs": [],
   "source": [
    "# word2vec\n",
    "from gensim.models import word2vec\n",
    "#读取分词完的内容\n",
    "sentences = word2vec.LineSentence('../data/nlp/jiebacut_corpus.txt')\n",
    "#建立模型并保存\n",
    "model = word2vec.Word2Vec(sentences, hs=1, min_count=0, window=10,\n",
    "workers = 8, size = 48)\n",
    "model.save(\"word2vec.model\")"
   ]
  },
  {
   "cell_type": "code",
   "execution_count": 20,
   "id": "a522079d",
   "metadata": {
    "ExecuteTime": {
     "end_time": "2022-05-14T14:17:07.643305Z",
     "start_time": "2022-05-14T14:17:07.633706Z"
    }
   },
   "outputs": [
    {
     "data": {
      "text/plain": [
       "(array([ 0.23652005,  1.9465765 , -1.1562902 ,  0.27276713,  1.5825741 ,\n",
       "         0.39901152,  1.2242953 , -0.56943536, -2.7857995 ,  2.635947  ,\n",
       "        -0.8032355 , -1.7854276 ,  2.1169271 ,  3.3969214 , -0.5720065 ,\n",
       "        -3.4009426 , -0.0127127 ,  0.8965557 , -3.1056638 , -1.3232818 ,\n",
       "         3.211486  , -0.20034076, -0.38924745, -0.62086755,  0.622817  ,\n",
       "         0.24139549, -4.5820293 ,  2.6790357 , -1.2922032 ,  0.5360245 ,\n",
       "        -0.50222313, -0.08984615,  1.426506  , -1.1321039 , -1.461951  ,\n",
       "         2.7812805 , -0.4808427 ,  0.3624135 ,  0.0428284 , -0.70098644,\n",
       "        -1.4316238 , -0.3896738 , -3.4013562 , -0.6208475 ,  0.10607259,\n",
       "        -1.3858671 , -1.1950605 ,  3.2356174 ], dtype=float32),\n",
       " (48,))"
      ]
     },
     "execution_count": 20,
     "metadata": {},
     "output_type": "execute_result"
    }
   ],
   "source": [
    "model.wv['灾害'], model.wv['灾害'].shape"
   ]
  },
  {
   "cell_type": "code",
   "execution_count": 15,
   "id": "5ef92d5a",
   "metadata": {
    "ExecuteTime": {
     "end_time": "2022-05-14T14:13:34.050605Z",
     "start_time": "2022-05-14T14:13:34.026962Z"
    }
   },
   "outputs": [
    {
     "data": {
      "text/plain": [
       "[('自然灾害', 0.7891435623168945),\n",
       " ('洪涝', 0.7375470995903015),\n",
       " ('紧急状况', 0.7248141765594482),\n",
       " ('灾难', 0.7082797288894653),\n",
       " ('预警系统', 0.7012507319450378),\n",
       " ('预防', 0.6894747614860535),\n",
       " ('危机', 0.6718776226043701),\n",
       " ('紧急情况', 0.669623613357544),\n",
       " ('旱灾', 0.6694502830505371),\n",
       " ('预警', 0.6675460338592529)]"
      ]
     },
     "execution_count": 15,
     "metadata": {},
     "output_type": "execute_result"
    }
   ],
   "source": [
    "model.wv.most_similar('灾害')"
   ]
  },
  {
   "cell_type": "code",
   "execution_count": 47,
   "id": "a5680862",
   "metadata": {
    "ExecuteTime": {
     "end_time": "2022-05-14T16:21:17.860410Z",
     "start_time": "2022-05-14T16:16:02.760943Z"
    }
   },
   "outputs": [],
   "source": [
    "# word2vec\n",
    "from gensim.models import word2vec\n",
    "#读取分词完的内容\n",
    "pku_sentences = word2vec.LineSentence('../data/nlp/pkucut_corpus.txt')\n",
    "#建立模型并保存\n",
    "pku_model = word2vec.Word2Vec(pku_sentences, hs=1, min_count=0, window=15,\n",
    "workers = 12, size =100) \n",
    "pku_model.save(\"pku_word2vec.model\")"
   ]
  },
  {
   "cell_type": "code",
   "execution_count": 48,
   "id": "74280837",
   "metadata": {
    "ExecuteTime": {
     "end_time": "2022-05-14T16:21:49.164196Z",
     "start_time": "2022-05-14T16:21:48.994844Z"
    }
   },
   "outputs": [
    {
     "data": {
      "text/plain": [
       "[('自然灾害', 0.6323012113571167),\n",
       " ('灾难', 0.583943784236908),\n",
       " ('备灾', 0.5665409564971924),\n",
       " ('减灾', 0.5581703186035156),\n",
       " ('资源', 0.5259444713592529),\n",
       " ('资源部', 0.5209581851959229),\n",
       " ('PERES', 0.5066176652908325),\n",
       " ('地震', 0.5033663511276245),\n",
       " ('灾情', 0.49321162700653076),\n",
       " ('风险', 0.48520219326019287)]"
      ]
     },
     "execution_count": 48,
     "metadata": {},
     "output_type": "execute_result"
    }
   ],
   "source": [
    "pku_model.wv.most_similar('灾害')"
   ]
  },
  {
   "cell_type": "markdown",
   "id": "6582e2a0",
   "metadata": {},
   "source": [
    "### 四个关联词汇"
   ]
  },
  {
   "cell_type": "code",
   "execution_count": 36,
   "id": "26e527cb",
   "metadata": {
    "ExecuteTime": {
     "end_time": "2022-05-14T14:57:21.698530Z",
     "start_time": "2022-05-14T14:57:21.685112Z"
    }
   },
   "outputs": [
    {
     "name": "stdout",
     "output_type": "stream",
     "text": [
      "反对党: 0.7027\n"
     ]
    }
   ],
   "source": [
    "# a - b + c = d\n",
    "result = pku_model.wv.most_similar(positive=['领导人', '国家'], negative=['资金'])\n",
    "most_similar_key, similarity = result[0]\n",
    "print(f\"{most_similar_key}: {similarity:.4f}\")"
   ]
  },
  {
   "cell_type": "markdown",
   "id": "60d92fc4",
   "metadata": {},
   "source": [
    "### 计算句子语义向量"
   ]
  },
  {
   "cell_type": "code",
   "execution_count": 73,
   "id": "bb26bbf9",
   "metadata": {
    "ExecuteTime": {
     "end_time": "2022-05-14T18:01:04.866998Z",
     "start_time": "2022-05-14T18:01:04.853891Z"
    }
   },
   "outputs": [],
   "source": [
    "def avgPool(model, wordlist):\n",
    "    N = len(wordlist)\n",
    "    Emb = np.zeros_like(model.wv[\"灾害\"])\n",
    "    for word in wordlist:\n",
    "        if word == \"\":\n",
    "            N -= 1\n",
    "            continue\n",
    "        Emb += model.wv[word]\n",
    "    Emb /= N\n",
    "    return Emb"
   ]
  },
  {
   "cell_type": "code",
   "execution_count": 41,
   "id": "729dbbc9",
   "metadata": {
    "ExecuteTime": {
     "end_time": "2022-05-14T14:58:57.809863Z",
     "start_time": "2022-05-14T14:58:57.734317Z"
    },
    "scrolled": true
   },
   "outputs": [
    {
     "data": {
      "text/plain": [
       "array([-0.10874759, -1.5761362 ,  0.9564036 ,  1.2508222 , -0.9867184 ,\n",
       "        0.12698399, -1.0839667 ,  0.6916187 , -0.7233998 ,  1.7226443 ,\n",
       "       -0.5590294 , -0.68959093,  0.14335287,  0.06274685, -0.29186594,\n",
       "        0.4385254 ,  0.75533104,  0.62798214, -1.3407363 , -1.3550838 ,\n",
       "       -0.16126677, -0.1541384 ,  0.33694676, -0.2889706 , -0.6018766 ,\n",
       "        0.3219061 , -0.09348576, -0.03662695, -0.19886282,  0.98672336,\n",
       "       -0.94969624, -0.34999803,  1.7753211 , -2.037934  , -0.36911476,\n",
       "       -0.28571108,  0.45379665,  1.7084594 , -0.22545439, -0.20104669,\n",
       "        0.6365651 ,  0.51377445,  1.1794941 , -0.16202115, -0.5112079 ,\n",
       "       -0.3655927 , -1.6378613 ,  0.46409267], dtype=float32)"
      ]
     },
     "execution_count": 41,
     "metadata": {},
     "output_type": "execute_result"
    }
   ],
   "source": [
    "sample_Sentense = ['重申', '其', '以往', '关于', '卢旺达', '局势', '的', '所有', '决议']\n",
    "Emb = avgPool(model, sample_Sentense)\n",
    "Emb"
   ]
  },
  {
   "cell_type": "code",
   "execution_count": 56,
   "id": "cd94ce42",
   "metadata": {
    "ExecuteTime": {
     "end_time": "2022-05-14T16:56:57.553152Z",
     "start_time": "2022-05-14T16:47:27.355339Z"
    }
   },
   "outputs": [
    {
     "data": {
      "text/plain": [
       "['第918(', '1994)号', '决议', '1994年5月17日', '安全理事会', '第3377次', '会议', '通过', '安全理事会']"
      ]
     },
     "execution_count": 56,
     "metadata": {},
     "output_type": "execute_result"
    }
   ],
   "source": [
    "# 文档分句\n",
    "import re\n",
    "# 获取文档\n",
    "with open(\"../data/nlp/corpus.zh\", \"r\", encoding=\"utf-8\") as f:\n",
    "    doc = f.read()\n",
    "    \n",
    "seg = pkuseg.pkuseg(model_name='news')\n",
    "\n",
    "# 分句\n",
    "sentences = re.split('。|！|\\!|\\.|？|\\?|,|，|;|；', doc)\n",
    "cut_sentences = []\n",
    "\n",
    "# 对每一句分词\n",
    "for s in sentences:\n",
    "    cut_sentences.append(seg.cut(s))\n",
    "cut_sentences[0]"
   ]
  },
  {
   "cell_type": "code",
   "execution_count": 68,
   "id": "5e42d8f8",
   "metadata": {
    "ExecuteTime": {
     "end_time": "2022-05-14T17:51:35.507450Z",
     "start_time": "2022-05-14T17:51:14.302742Z"
    }
   },
   "outputs": [
    {
     "name": "stderr",
     "output_type": "stream",
     "text": [
      "100%|███████████████████████████████████████████████████████████| 1064417/1064417 [00:21<00:00, 50379.92it/s]\n"
     ]
    },
    {
     "data": {
      "text/plain": [
       "['第918', '1994号', '决议', '1994年5月17日', '安全理事会', '第3377次', '会议', '通过', '安全理事会']"
      ]
     },
     "execution_count": 68,
     "metadata": {},
     "output_type": "execute_result"
    }
   ],
   "source": [
    "# 去除标点符号\n",
    "from tqdm import tqdm\n",
    "remove_chars = '[·’!\"\\#$%&\\'()＃！（）*+,-./:;<=>?\\@，：?￥★、…．＞【】［］《》？“”‘’\\[\\\\]^_`{|}~]+'\n",
    "with open('../data/nlp/pkucut_corpus.txt', 'w', encoding='utf-8') as f:\n",
    "    for i in tqdm(range(len(cut_sentences))):\n",
    "        for j in range(len(cut_sentences[i])):\n",
    "            cut_sentences[i][j] = re.sub(remove_chars, \"\", cut_sentences[i][j])\n",
    "            f.write(cut_sentences[i][j] + \" \")\n",
    "cut_sentences[0]"
   ]
  },
  {
   "cell_type": "code",
   "execution_count": 69,
   "id": "2d571571",
   "metadata": {
    "ExecuteTime": {
     "end_time": "2022-05-14T17:54:12.113951Z",
     "start_time": "2022-05-14T17:51:59.280201Z"
    }
   },
   "outputs": [],
   "source": [
    "#读取分词完的内容\n",
    "pku_sentences = word2vec.LineSentence('../data/nlp/pkucut_corpus.txt')\n",
    "#建立模型并保存\n",
    "pku_model = word2vec.Word2Vec(pku_sentences, hs=1, min_count=0, window=15,\n",
    "workers = 12, size =100) \n",
    "pku_model.save(\"pku_word2vec.model\")"
   ]
  },
  {
   "cell_type": "code",
   "execution_count": 74,
   "id": "8c7d4054",
   "metadata": {
    "ExecuteTime": {
     "end_time": "2022-05-14T18:02:29.745228Z",
     "start_time": "2022-05-14T18:01:20.475385Z"
    }
   },
   "outputs": [
    {
     "name": "stdout",
     "output_type": "stream",
     "text": [
      "['中华人民共和国', '中央', '人民政府', '今天', '成立', '了']\n"
     ]
    },
    {
     "name": "stderr",
     "output_type": "stream",
     "text": [
      "  1%|▎                                                             | 5585/1064417 [00:00<01:14, 14133.49it/s]C:\\Users\\15710\\Anaconda3\\envs\\pytorch\\lib\\site-packages\\ipykernel_launcher.py:9: RuntimeWarning: invalid value encountered in true_divide\n",
      "  if __name__ == '__main__':\n",
      "100%|███████████████████████████████████████████████████████████| 1064417/1064417 [01:09<00:00, 15371.88it/s]"
     ]
    },
    {
     "name": "stdout",
     "output_type": "stream",
     "text": [
      "347028\n"
     ]
    },
    {
     "name": "stderr",
     "output_type": "stream",
     "text": [
      "\n"
     ]
    }
   ],
   "source": [
    "from numpy import dot\n",
    "from numpy.linalg import norm\n",
    "\n",
    "# 计算余弦相似度\n",
    "def cal_cos_similarity(a, b):\n",
    "    return (dot(a, b)/(norm(a)*norm(b)))\n",
    "# 样本句子\n",
    "sample = seg.cut(\"中华人民共和国中央人民政府今天成立了\")\n",
    "sample_v = avgPool(pku_model, sample)\n",
    "print(sample)\n",
    "# 找出分好的句子中，句向量与样本句余弦相似度最大的句子索引max_index\n",
    "max_index = 0\n",
    "max_similarity = 0\n",
    "current_index = 0\n",
    "for s in tqdm(cut_sentences):\n",
    "#     print(s)\n",
    "    current_similarity = cal_cos_similarity(avgPool(pku_model, s), sample_v)\n",
    "    if current_similarity > max_similarity:\n",
    "        max_index = current_index\n",
    "        max_similarity = current_similarity\n",
    "    current_index += 1\n",
    "print(max_index)"
   ]
  },
  {
   "cell_type": "code",
   "execution_count": 75,
   "id": "e8588154",
   "metadata": {
    "ExecuteTime": {
     "end_time": "2022-05-14T18:02:49.429377Z",
     "start_time": "2022-05-14T18:02:49.397466Z"
    }
   },
   "outputs": [
    {
     "data": {
      "text/plain": [
       "['中央政府', '成立', '了', '全国就业委员会']"
      ]
     },
     "execution_count": 75,
     "metadata": {},
     "output_type": "execute_result"
    }
   ],
   "source": [
    "# 输出余弦相似度最为相近的句子\n",
    "cut_sentences[max_index]"
   ]
  }
 ],
 "metadata": {
  "kernelspec": {
   "display_name": "Python 3.6.13 ('pytorch')",
   "language": "python",
   "name": "python3"
  },
  "language_info": {
   "codemirror_mode": {
    "name": "ipython",
    "version": 3
   },
   "file_extension": ".py",
   "mimetype": "text/x-python",
   "name": "python",
   "nbconvert_exporter": "python",
   "pygments_lexer": "ipython3",
   "version": "3.6.13"
  },
  "toc": {
   "base_numbering": 1,
   "nav_menu": {},
   "number_sections": true,
   "sideBar": true,
   "skip_h1_title": false,
   "title_cell": "Table of Contents",
   "title_sidebar": "Contents",
   "toc_cell": false,
   "toc_position": {},
   "toc_section_display": true,
   "toc_window_display": false
  },
  "varInspector": {
   "cols": {
    "lenName": 16,
    "lenType": 16,
    "lenVar": 40
   },
   "kernels_config": {
    "python": {
     "delete_cmd_postfix": "",
     "delete_cmd_prefix": "del ",
     "library": "var_list.py",
     "varRefreshCmd": "print(var_dic_list())"
    },
    "r": {
     "delete_cmd_postfix": ") ",
     "delete_cmd_prefix": "rm(",
     "library": "var_list.r",
     "varRefreshCmd": "cat(var_dic_list()) "
    }
   },
   "types_to_exclude": [
    "module",
    "function",
    "builtin_function_or_method",
    "instance",
    "_Feature"
   ],
   "window_display": false
  },
  "vscode": {
   "interpreter": {
    "hash": "e7563111a394ee039718cbf2b4990b9826ca0823d94a258612fc5986fce06182"
   }
  }
 },
 "nbformat": 4,
 "nbformat_minor": 5
}
