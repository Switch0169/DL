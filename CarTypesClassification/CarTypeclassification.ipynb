{
 "cells": [
  {
   "cell_type": "code",
   "execution_count": 1,
   "id": "7db6073a",
   "metadata": {
    "_cell_guid": "b1076dfc-b9ad-4769-8c92-a6c4dae69d19",
    "_uuid": "8f2839f25d086af736a60e9eeb907d3b93b6e0e5",
    "execution": {
     "iopub.execute_input": "2022-05-07T15:16:47.751199Z",
     "iopub.status.busy": "2022-05-07T15:16:47.750903Z",
     "iopub.status.idle": "2022-05-07T15:16:47.761272Z",
     "shell.execute_reply": "2022-05-07T15:16:47.760626Z"
    },
    "papermill": {
     "duration": 0.031347,
     "end_time": "2022-05-07T15:16:47.763043",
     "exception": false,
     "start_time": "2022-05-07T15:16:47.731696",
     "status": "completed"
    },
    "tags": []
   },
   "outputs": [],
   "source": [
    "# This Python 3 environment comes with many helpful analytics libraries installed\n",
    "# It is defined by the kaggle/python Docker image: https://github.com/kaggle/docker-python\n",
    "# For example, here's several helpful packages to load\n",
    "\n",
    "import numpy as np # linear algebra\n",
    "import pandas as pd # data processing, CSV file I/O (e.g. pd.read_csv)"
   ]
  },
  {
   "cell_type": "markdown",
   "id": "c694cf75",
   "metadata": {
    "papermill": {
     "duration": 0.015195,
     "end_time": "2022-05-07T15:16:47.793724",
     "exception": false,
     "start_time": "2022-05-07T15:16:47.778529",
     "status": "completed"
    },
    "tags": []
   },
   "source": [
    "## 数据读取"
   ]
  },
  {
   "cell_type": "code",
   "execution_count": 2,
   "id": "ff671a43",
   "metadata": {
    "execution": {
     "iopub.execute_input": "2022-05-07T15:16:47.825213Z",
     "iopub.status.busy": "2022-05-07T15:16:47.825016Z",
     "iopub.status.idle": "2022-05-07T15:16:49.531339Z",
     "shell.execute_reply": "2022-05-07T15:16:49.530606Z"
    },
    "papermill": {
     "duration": 1.72487,
     "end_time": "2022-05-07T15:16:49.533759",
     "exception": false,
     "start_time": "2022-05-07T15:16:47.808889",
     "status": "completed"
    },
    "tags": []
   },
   "outputs": [],
   "source": [
    "import os\n",
    "import os.path\n",
    "import torch\n",
    "import torch.nn as nn\n",
    "from torch.nn.functional import softmax\n",
    "import torchvision\n",
    "from torchvision import transforms\n",
    "import torch.optim as optim\n",
    "from torch.optim import lr_scheduler\n",
    "import cv2\n",
    "import numpy as np\n",
    "from PIL import Image\n",
    "from matplotlib import pyplot as plt\n",
    "import copy\n",
    "\n",
    "def write_txt(content, filename, mode='w'):\n",
    "    \"\"\"保存txt数据\n",
    "    :param content:需要保存的数据,type->list\n",
    "    :param filename:文件名\n",
    "    \"\"\"\n",
    "    with open(filename, mode) as f:\n",
    "        for line in content:\n",
    "            str_line = \"\"\n",
    "            for col, data in enumerate(line):\n",
    "                if not col == len(line) - 1:\n",
    "                    # 以空格作为分隔符\n",
    "                    str_line = str_line + str(data) + \" \"\n",
    "                else:\n",
    "                    # 每行最后一个数据用换行符“\\n”\n",
    "                    str_line = str_line + str(data) + \"\\n\"\n",
    "            f.write(str_line)\n",
    "\n",
    "\n",
    "def get_files_list(dir):\n",
    "    '''\n",
    "    实现遍历dir目录下,所有文件(包含子文件夹的文件)\n",
    "    :param dir:指定文件夹目录\n",
    "    :return:包含所有文件的列表->list\n",
    "    '''\n",
    "    # parent:父目录, filenames:该目录下所有文件夹,filenames:该目录下的文件名\n",
    "    files_list = [] #写入文件的数据\n",
    "    for parent, dirnames, filenames in os.walk(dir):\n",
    "        for filename in filenames:\n",
    "#             print(\"parent is: \" + parent)\n",
    "#             print(\"filename is: \" + filename)\n",
    "#             print(os.path.join(parent, filename).replace('\\\\','/'))  # 输出rootdir路径下所有文件（包含子文件）信息\n",
    "            curr_file = parent.split(os.sep)[-1]  #获取正在遍历的文件夹名（也就是类名）\n",
    "            #根据class名确定labels\n",
    "            if curr_file == \"bigbus\":\n",
    "                labels = 0\n",
    "            elif curr_file == \"car\":\n",
    "                labels = 1\n",
    "            elif curr_file == \"minibus\":\n",
    "                labels = 2\n",
    "            elif curr_file == \"pickup\":\n",
    "                labels = 3\n",
    "            elif curr_file == \"truckbig\":\n",
    "                labels = 4\n",
    "            elif curr_file == \"trucksmall\":\n",
    "                labels = 5\n",
    "\n",
    "            dir_path = parent.replace('\\\\', '/').split('/')[-2]   #train?val?test?\n",
    "\n",
    "            curr_file = os.path.join(dir_path, curr_file)  #相对路径\n",
    "\n",
    "            files_list.append([os.path.join(curr_file, filename).replace('\\\\','/'), labels])\t#相对路径+label\n",
    "\n",
    "\n",
    "            #写入csv文件\n",
    "            path = \"%s\" % os.path.join('../input/car-type/car_classfication/', curr_file, filename).replace('\\\\','/')\n",
    "            label = \"%d\" % labels\n",
    "            list = [path, label]\n",
    "            data = pd.DataFrame([list])\n",
    "            if dir == '../input/car-type/car_classfication/train':\n",
    "                data.to_csv(\"./train.csv\", mode='a', header=False, index=False)\n",
    "            elif dir == '../input/car-type/car_classfication/val':\n",
    "                data.to_csv(\"./val.csv\", mode='a', header=False, index=False)\n",
    "\n",
    "    return files_list"
   ]
  },
  {
   "cell_type": "code",
   "execution_count": 3,
   "id": "3eaf5461",
   "metadata": {
    "execution": {
     "iopub.execute_input": "2022-05-07T15:16:49.566832Z",
     "iopub.status.busy": "2022-05-07T15:16:49.566603Z",
     "iopub.status.idle": "2022-05-07T15:16:53.263831Z",
     "shell.execute_reply": "2022-05-07T15:16:53.263030Z"
    },
    "papermill": {
     "duration": 3.716959,
     "end_time": "2022-05-07T15:16:53.265969",
     "exception": false,
     "start_time": "2022-05-07T15:16:49.549010",
     "status": "completed"
    },
    "tags": []
   },
   "outputs": [],
   "source": [
    "import pandas as pd\n",
    "#先生成两个csv文件夹\n",
    "df = pd.DataFrame(columns=['path', 'label'])\n",
    "df.to_csv(\"./train.csv\", index=False)\n",
    "\n",
    "df2 = pd.DataFrame(columns=['path', 'label'])\n",
    "df2.to_csv(\"./val.csv\", index=False)\n",
    "\n",
    "#写入txt文件\n",
    "train_dir = '../input/car-type/car_classfication/train'\n",
    "train_txt = './train.txt'\n",
    "train_data = get_files_list(train_dir)\n",
    "write_txt(train_data, train_txt, mode='w')\n",
    "\n",
    "val_dir = '../input/car-type/car_classfication/val'\n",
    "val_txt = './val.txt'\n",
    "val_data = get_files_list(val_dir)\n",
    "write_txt(val_data, val_txt, mode='w')"
   ]
  },
  {
   "cell_type": "code",
   "execution_count": 4,
   "id": "1105af36",
   "metadata": {
    "execution": {
     "iopub.execute_input": "2022-05-07T15:16:53.301820Z",
     "iopub.status.busy": "2022-05-07T15:16:53.301388Z",
     "iopub.status.idle": "2022-05-07T15:16:53.306283Z",
     "shell.execute_reply": "2022-05-07T15:16:53.305626Z"
    },
    "papermill": {
     "duration": 0.024123,
     "end_time": "2022-05-07T15:16:53.308052",
     "exception": false,
     "start_time": "2022-05-07T15:16:53.283929",
     "status": "completed"
    },
    "tags": []
   },
   "outputs": [],
   "source": [
    "import cv2\n",
    "import numpy as np\n",
    "from matplotlib import pyplot as plt\n",
    "import PIL.Image as Image\n",
    "def show(img):\n",
    "    if img.ndim == 2:\n",
    "        plt.imshow(img,cmap=\"gray\")\n",
    "    elif img.ndim == 3:\n",
    "        plt.imshow(img)\n",
    "    plt.show()"
   ]
  },
  {
   "cell_type": "code",
   "execution_count": 5,
   "id": "dd0fd847",
   "metadata": {
    "execution": {
     "iopub.execute_input": "2022-05-07T15:16:53.342325Z",
     "iopub.status.busy": "2022-05-07T15:16:53.341950Z",
     "iopub.status.idle": "2022-05-07T15:16:53.366598Z",
     "shell.execute_reply": "2022-05-07T15:16:53.365921Z"
    },
    "papermill": {
     "duration": 0.04386,
     "end_time": "2022-05-07T15:16:53.368498",
     "exception": false,
     "start_time": "2022-05-07T15:16:53.324638",
     "status": "completed"
    },
    "tags": []
   },
   "outputs": [
    {
     "data": {
      "text/html": [
       "<div>\n",
       "<style scoped>\n",
       "    .dataframe tbody tr th:only-of-type {\n",
       "        vertical-align: middle;\n",
       "    }\n",
       "\n",
       "    .dataframe tbody tr th {\n",
       "        vertical-align: top;\n",
       "    }\n",
       "\n",
       "    .dataframe thead th {\n",
       "        text-align: right;\n",
       "    }\n",
       "</style>\n",
       "<table border=\"1\" class=\"dataframe\">\n",
       "  <thead>\n",
       "    <tr style=\"text-align: right;\">\n",
       "      <th></th>\n",
       "      <th>path</th>\n",
       "      <th>label</th>\n",
       "    </tr>\n",
       "  </thead>\n",
       "  <tbody>\n",
       "    <tr>\n",
       "      <th>0</th>\n",
       "      <td>../input/car-type/car_classfication/train/truc...</td>\n",
       "      <td>4</td>\n",
       "    </tr>\n",
       "    <tr>\n",
       "      <th>1</th>\n",
       "      <td>../input/car-type/car_classfication/train/truc...</td>\n",
       "      <td>4</td>\n",
       "    </tr>\n",
       "    <tr>\n",
       "      <th>2</th>\n",
       "      <td>../input/car-type/car_classfication/train/truc...</td>\n",
       "      <td>4</td>\n",
       "    </tr>\n",
       "    <tr>\n",
       "      <th>3</th>\n",
       "      <td>../input/car-type/car_classfication/train/truc...</td>\n",
       "      <td>4</td>\n",
       "    </tr>\n",
       "    <tr>\n",
       "      <th>4</th>\n",
       "      <td>../input/car-type/car_classfication/train/truc...</td>\n",
       "      <td>4</td>\n",
       "    </tr>\n",
       "  </tbody>\n",
       "</table>\n",
       "</div>"
      ],
      "text/plain": [
       "                                                path  label\n",
       "0  ../input/car-type/car_classfication/train/truc...      4\n",
       "1  ../input/car-type/car_classfication/train/truc...      4\n",
       "2  ../input/car-type/car_classfication/train/truc...      4\n",
       "3  ../input/car-type/car_classfication/train/truc...      4\n",
       "4  ../input/car-type/car_classfication/train/truc...      4"
      ]
     },
     "execution_count": 5,
     "metadata": {},
     "output_type": "execute_result"
    }
   ],
   "source": [
    "train_df = pd.read_csv(\"./train.csv\")\n",
    "val_df = pd.read_csv(\"./val.csv\")\n",
    "train_df.head()"
   ]
  },
  {
   "cell_type": "markdown",
   "id": "e4883936",
   "metadata": {
    "papermill": {
     "duration": 0.016723,
     "end_time": "2022-05-07T15:16:53.402732",
     "exception": false,
     "start_time": "2022-05-07T15:16:53.386009",
     "status": "completed"
    },
    "tags": []
   },
   "source": [
    "## 创建数据集"
   ]
  },
  {
   "cell_type": "code",
   "execution_count": 6,
   "id": "4776fcb0",
   "metadata": {
    "execution": {
     "iopub.execute_input": "2022-05-07T15:16:53.440060Z",
     "iopub.status.busy": "2022-05-07T15:16:53.439579Z",
     "iopub.status.idle": "2022-05-07T15:16:53.444401Z",
     "shell.execute_reply": "2022-05-07T15:16:53.443652Z"
    },
    "papermill": {
     "duration": 0.026333,
     "end_time": "2022-05-07T15:16:53.446350",
     "exception": false,
     "start_time": "2022-05-07T15:16:53.420017",
     "status": "completed"
    },
    "tags": []
   },
   "outputs": [],
   "source": [
    "# 图像增广\n",
    "transform = torchvision.transforms.Compose([\n",
    "    torchvision.transforms.Resize((224, 224)),\n",
    "    torchvision.transforms.ToTensor(),\n",
    "    # 标准化图像的每个通道\n",
    "    torchvision.transforms.Normalize([0.4914, 0.4822, 0.4465],\n",
    "                                     [0.2023, 0.1994, 0.2010])])"
   ]
  },
  {
   "cell_type": "code",
   "execution_count": 7,
   "id": "f0f72b05",
   "metadata": {
    "execution": {
     "iopub.execute_input": "2022-05-07T15:16:53.481532Z",
     "iopub.status.busy": "2022-05-07T15:16:53.481063Z",
     "iopub.status.idle": "2022-05-07T15:16:53.513048Z",
     "shell.execute_reply": "2022-05-07T15:16:53.512360Z"
    },
    "papermill": {
     "duration": 0.051884,
     "end_time": "2022-05-07T15:16:53.515244",
     "exception": false,
     "start_time": "2022-05-07T15:16:53.463360",
     "status": "completed"
    },
    "tags": []
   },
   "outputs": [],
   "source": [
    "data_dir = \"../input/car-type/car_classfication\"\n",
    "batch_size = 4\n",
    "train_ds = torchvision.datasets.ImageFolder(os.path.join(data_dir, 'train'), transform=transform)\n",
    "val_ds = torchvision.datasets.ImageFolder(os.path.join(data_dir, 'val'), transform=transform)\n",
    "\n",
    "train_loader = torch.utils.data.DataLoader(train_ds, batch_size, shuffle=True)\n",
    "test_loader = torch.utils.data.DataLoader(val_ds, batch_size, shuffle=False)"
   ]
  },
  {
   "cell_type": "code",
   "execution_count": 8,
   "id": "1354d878",
   "metadata": {
    "execution": {
     "iopub.execute_input": "2022-05-07T15:16:53.549833Z",
     "iopub.status.busy": "2022-05-07T15:16:53.549647Z",
     "iopub.status.idle": "2022-05-07T15:16:53.654305Z",
     "shell.execute_reply": "2022-05-07T15:16:53.652992Z"
    },
    "papermill": {
     "duration": 0.124179,
     "end_time": "2022-05-07T15:16:53.656388",
     "exception": false,
     "start_time": "2022-05-07T15:16:53.532209",
     "status": "completed"
    },
    "tags": []
   },
   "outputs": [
    {
     "name": "stdout",
     "output_type": "stream",
     "text": [
      "torch.Size([4, 3, 224, 224])\n",
      "tensor([2, 2, 3, 5])\n"
     ]
    }
   ],
   "source": [
    "for X, y in train_loader:\n",
    "    print(X.shape)\n",
    "    print(y)\n",
    "    break"
   ]
  },
  {
   "cell_type": "code",
   "execution_count": 9,
   "id": "ee64c9c1",
   "metadata": {
    "execution": {
     "iopub.execute_input": "2022-05-07T15:16:53.694342Z",
     "iopub.status.busy": "2022-05-07T15:16:53.693838Z",
     "iopub.status.idle": "2022-05-07T15:16:53.697268Z",
     "shell.execute_reply": "2022-05-07T15:16:53.696345Z"
    },
    "papermill": {
     "duration": 0.024534,
     "end_time": "2022-05-07T15:16:53.699112",
     "exception": false,
     "start_time": "2022-05-07T15:16:53.674578",
     "status": "completed"
    },
    "tags": []
   },
   "outputs": [],
   "source": [
    "# for X, y in test_loader:\n",
    "#     print(X.shape)\n",
    "#     print(y)"
   ]
  },
  {
   "cell_type": "code",
   "execution_count": 10,
   "id": "e94e7ca9",
   "metadata": {
    "execution": {
     "iopub.execute_input": "2022-05-07T15:16:53.734841Z",
     "iopub.status.busy": "2022-05-07T15:16:53.734652Z",
     "iopub.status.idle": "2022-05-07T15:17:03.441198Z",
     "shell.execute_reply": "2022-05-07T15:17:03.440291Z"
    },
    "papermill": {
     "duration": 9.728702,
     "end_time": "2022-05-07T15:17:03.445236",
     "exception": false,
     "start_time": "2022-05-07T15:16:53.716534",
     "status": "completed"
    },
    "tags": []
   },
   "outputs": [
    {
     "name": "stderr",
     "output_type": "stream",
     "text": [
      "Downloading: \"https://download.pytorch.org/models/resnet18-f37072fd.pth\" to /root/.cache/torch/hub/checkpoints/resnet18-f37072fd.pth\n"
     ]
    },
    {
     "data": {
      "application/vnd.jupyter.widget-view+json": {
       "model_id": "44c0d193e15c409f8debeb37d93c02f6",
       "version_major": 2,
       "version_minor": 0
      },
      "text/plain": [
       "  0%|          | 0.00/44.7M [00:00<?, ?B/s]"
      ]
     },
     "metadata": {},
     "output_type": "display_data"
    },
    {
     "name": "stdout",
     "output_type": "stream",
     "text": [
      "ResNet(\n",
      "  (conv1): Conv2d(3, 64, kernel_size=(7, 7), stride=(2, 2), padding=(3, 3), bias=False)\n",
      "  (bn1): BatchNorm2d(64, eps=1e-05, momentum=0.1, affine=True, track_running_stats=True)\n",
      "  (relu): ReLU(inplace=True)\n",
      "  (maxpool): MaxPool2d(kernel_size=3, stride=2, padding=1, dilation=1, ceil_mode=False)\n",
      "  (layer1): Sequential(\n",
      "    (0): BasicBlock(\n",
      "      (conv1): Conv2d(64, 64, kernel_size=(3, 3), stride=(1, 1), padding=(1, 1), bias=False)\n",
      "      (bn1): BatchNorm2d(64, eps=1e-05, momentum=0.1, affine=True, track_running_stats=True)\n",
      "      (relu): ReLU(inplace=True)\n",
      "      (conv2): Conv2d(64, 64, kernel_size=(3, 3), stride=(1, 1), padding=(1, 1), bias=False)\n",
      "      (bn2): BatchNorm2d(64, eps=1e-05, momentum=0.1, affine=True, track_running_stats=True)\n",
      "    )\n",
      "    (1): BasicBlock(\n",
      "      (conv1): Conv2d(64, 64, kernel_size=(3, 3), stride=(1, 1), padding=(1, 1), bias=False)\n",
      "      (bn1): BatchNorm2d(64, eps=1e-05, momentum=0.1, affine=True, track_running_stats=True)\n",
      "      (relu): ReLU(inplace=True)\n",
      "      (conv2): Conv2d(64, 64, kernel_size=(3, 3), stride=(1, 1), padding=(1, 1), bias=False)\n",
      "      (bn2): BatchNorm2d(64, eps=1e-05, momentum=0.1, affine=True, track_running_stats=True)\n",
      "    )\n",
      "  )\n",
      "  (layer2): Sequential(\n",
      "    (0): BasicBlock(\n",
      "      (conv1): Conv2d(64, 128, kernel_size=(3, 3), stride=(2, 2), padding=(1, 1), bias=False)\n",
      "      (bn1): BatchNorm2d(128, eps=1e-05, momentum=0.1, affine=True, track_running_stats=True)\n",
      "      (relu): ReLU(inplace=True)\n",
      "      (conv2): Conv2d(128, 128, kernel_size=(3, 3), stride=(1, 1), padding=(1, 1), bias=False)\n",
      "      (bn2): BatchNorm2d(128, eps=1e-05, momentum=0.1, affine=True, track_running_stats=True)\n",
      "      (downsample): Sequential(\n",
      "        (0): Conv2d(64, 128, kernel_size=(1, 1), stride=(2, 2), bias=False)\n",
      "        (1): BatchNorm2d(128, eps=1e-05, momentum=0.1, affine=True, track_running_stats=True)\n",
      "      )\n",
      "    )\n",
      "    (1): BasicBlock(\n",
      "      (conv1): Conv2d(128, 128, kernel_size=(3, 3), stride=(1, 1), padding=(1, 1), bias=False)\n",
      "      (bn1): BatchNorm2d(128, eps=1e-05, momentum=0.1, affine=True, track_running_stats=True)\n",
      "      (relu): ReLU(inplace=True)\n",
      "      (conv2): Conv2d(128, 128, kernel_size=(3, 3), stride=(1, 1), padding=(1, 1), bias=False)\n",
      "      (bn2): BatchNorm2d(128, eps=1e-05, momentum=0.1, affine=True, track_running_stats=True)\n",
      "    )\n",
      "  )\n",
      "  (layer3): Sequential(\n",
      "    (0): BasicBlock(\n",
      "      (conv1): Conv2d(128, 256, kernel_size=(3, 3), stride=(2, 2), padding=(1, 1), bias=False)\n",
      "      (bn1): BatchNorm2d(256, eps=1e-05, momentum=0.1, affine=True, track_running_stats=True)\n",
      "      (relu): ReLU(inplace=True)\n",
      "      (conv2): Conv2d(256, 256, kernel_size=(3, 3), stride=(1, 1), padding=(1, 1), bias=False)\n",
      "      (bn2): BatchNorm2d(256, eps=1e-05, momentum=0.1, affine=True, track_running_stats=True)\n",
      "      (downsample): Sequential(\n",
      "        (0): Conv2d(128, 256, kernel_size=(1, 1), stride=(2, 2), bias=False)\n",
      "        (1): BatchNorm2d(256, eps=1e-05, momentum=0.1, affine=True, track_running_stats=True)\n",
      "      )\n",
      "    )\n",
      "    (1): BasicBlock(\n",
      "      (conv1): Conv2d(256, 256, kernel_size=(3, 3), stride=(1, 1), padding=(1, 1), bias=False)\n",
      "      (bn1): BatchNorm2d(256, eps=1e-05, momentum=0.1, affine=True, track_running_stats=True)\n",
      "      (relu): ReLU(inplace=True)\n",
      "      (conv2): Conv2d(256, 256, kernel_size=(3, 3), stride=(1, 1), padding=(1, 1), bias=False)\n",
      "      (bn2): BatchNorm2d(256, eps=1e-05, momentum=0.1, affine=True, track_running_stats=True)\n",
      "    )\n",
      "  )\n",
      "  (layer4): Sequential(\n",
      "    (0): BasicBlock(\n",
      "      (conv1): Conv2d(256, 512, kernel_size=(3, 3), stride=(2, 2), padding=(1, 1), bias=False)\n",
      "      (bn1): BatchNorm2d(512, eps=1e-05, momentum=0.1, affine=True, track_running_stats=True)\n",
      "      (relu): ReLU(inplace=True)\n",
      "      (conv2): Conv2d(512, 512, kernel_size=(3, 3), stride=(1, 1), padding=(1, 1), bias=False)\n",
      "      (bn2): BatchNorm2d(512, eps=1e-05, momentum=0.1, affine=True, track_running_stats=True)\n",
      "      (downsample): Sequential(\n",
      "        (0): Conv2d(256, 512, kernel_size=(1, 1), stride=(2, 2), bias=False)\n",
      "        (1): BatchNorm2d(512, eps=1e-05, momentum=0.1, affine=True, track_running_stats=True)\n",
      "      )\n",
      "    )\n",
      "    (1): BasicBlock(\n",
      "      (conv1): Conv2d(512, 512, kernel_size=(3, 3), stride=(1, 1), padding=(1, 1), bias=False)\n",
      "      (bn1): BatchNorm2d(512, eps=1e-05, momentum=0.1, affine=True, track_running_stats=True)\n",
      "      (relu): ReLU(inplace=True)\n",
      "      (conv2): Conv2d(512, 512, kernel_size=(3, 3), stride=(1, 1), padding=(1, 1), bias=False)\n",
      "      (bn2): BatchNorm2d(512, eps=1e-05, momentum=0.1, affine=True, track_running_stats=True)\n",
      "    )\n",
      "  )\n",
      "  (avgpool): AdaptiveAvgPool2d(output_size=(1, 1))\n",
      "  (fc): Linear(in_features=512, out_features=6, bias=True)\n",
      ")\n"
     ]
    }
   ],
   "source": [
    "# 预训练模型 ResNet-18 \n",
    "net = torchvision.models.resnet18(pretrained=True)\n",
    "classes = [\"bigbus\", \"car\", \"minibus\", \"pickup\", \"truckbig\", \"trucksmall\"]\n",
    "num_classes = len(classes)\n",
    "# 更改输出层\n",
    "net.fc = nn.Linear(512, num_classes)\n",
    "print(net)"
   ]
  },
  {
   "cell_type": "markdown",
   "id": "3642ba8e",
   "metadata": {
    "papermill": {
     "duration": 0.02739,
     "end_time": "2022-05-07T15:17:03.501339",
     "exception": false,
     "start_time": "2022-05-07T15:17:03.473949",
     "status": "completed"
    },
    "tags": []
   },
   "source": [
    "## 测试函数"
   ]
  },
  {
   "cell_type": "code",
   "execution_count": 11,
   "id": "927f5b5b",
   "metadata": {
    "execution": {
     "iopub.execute_input": "2022-05-07T15:17:03.557412Z",
     "iopub.status.busy": "2022-05-07T15:17:03.557200Z",
     "iopub.status.idle": "2022-05-07T15:17:03.566854Z",
     "shell.execute_reply": "2022-05-07T15:17:03.566106Z"
    },
    "papermill": {
     "duration": 0.039522,
     "end_time": "2022-05-07T15:17:03.568460",
     "exception": false,
     "start_time": "2022-05-07T15:17:03.528938",
     "status": "completed"
    },
    "tags": []
   },
   "outputs": [],
   "source": [
    "def evaluation(net, test_data, test_loader):\n",
    "    net.eval()\n",
    "    eval_loss = 0.\n",
    "    eval_acc = 0.\n",
    "    with torch.no_grad():\n",
    "        for X, y in test_loader:\n",
    "            X, y = X.to(device), y.to(device)\n",
    "            outputs = net(X)\n",
    "            _, preds = torch.max(outputs, 1)\n",
    "            l = loss(outputs, y)\n",
    "            eval_loss += l.item() * X.size(0)\n",
    "            num_correct = torch.sum(preds == y.data)\n",
    "            eval_acc += num_correct\n",
    "        print('Test Loss: {:.6f}, Acc: {:.6f}'.format(eval_loss / (len(\n",
    "                test_data)), eval_acc / (len(test_data))))\n",
    "    return eval_loss/len(test_data), eval_acc/len(test_data)"
   ]
  },
  {
   "cell_type": "markdown",
   "id": "38887bcf",
   "metadata": {
    "papermill": {
     "duration": 0.027423,
     "end_time": "2022-05-07T15:17:03.623522",
     "exception": false,
     "start_time": "2022-05-07T15:17:03.596099",
     "status": "completed"
    },
    "tags": []
   },
   "source": [
    "## 训练函数"
   ]
  },
  {
   "cell_type": "code",
   "execution_count": 12,
   "id": "fab8c1ac",
   "metadata": {
    "execution": {
     "iopub.execute_input": "2022-05-07T15:17:03.679443Z",
     "iopub.status.busy": "2022-05-07T15:17:03.679230Z",
     "iopub.status.idle": "2022-05-07T15:29:44.249169Z",
     "shell.execute_reply": "2022-05-07T15:29:44.248453Z"
    },
    "papermill": {
     "duration": 760.624202,
     "end_time": "2022-05-07T15:29:44.275239",
     "exception": false,
     "start_time": "2022-05-07T15:17:03.651037",
     "status": "completed"
    },
    "tags": []
   },
   "outputs": [
    {
     "name": "stdout",
     "output_type": "stream",
     "text": [
      "---------without training----------\n",
      "Test Loss: 1.915639, Acc: 0.138614\n",
      "-----------------------------------\n",
      "training on cuda\n",
      "epoch 1\n",
      "Test Loss: 0.055593, Acc: 1.000000\n",
      "Train Loss: 0.415143, Acc: 0.858622\n",
      "epoch 2\n",
      "Test Loss: 0.019553, Acc: 1.000000\n",
      "Train Loss: 0.176966, Acc: 0.948788\n",
      "epoch 3\n",
      "Test Loss: 0.030086, Acc: 1.000000\n",
      "Train Loss: 0.113186, Acc: 0.967584\n",
      "epoch 4\n",
      "Test Loss: 0.043999, Acc: 0.980198\n",
      "Train Loss: 0.100920, Acc: 0.971397\n",
      "epoch 5\n",
      "Test Loss: 0.006743, Acc: 1.000000\n",
      "Train Loss: 0.076237, Acc: 0.980387\n",
      "epoch 6\n",
      "Test Loss: 0.067096, Acc: 0.970297\n",
      "Train Loss: 0.061994, Acc: 0.986380\n",
      "epoch 7\n",
      "Test Loss: 0.003403, Acc: 1.000000\n",
      "Train Loss: 0.075193, Acc: 0.979570\n",
      "epoch 8\n",
      "Test Loss: 0.005509, Acc: 1.000000\n",
      "Train Loss: 0.045295, Acc: 0.988831\n",
      "epoch 9\n",
      "Test Loss: 0.005837, Acc: 1.000000\n",
      "Train Loss: 0.046440, Acc: 0.987469\n",
      "epoch 10\n",
      "Test Loss: 0.004258, Acc: 1.000000\n",
      "Train Loss: 0.039263, Acc: 0.990193\n",
      "epoch 11\n",
      "Test Loss: 0.012021, Acc: 1.000000\n",
      "Train Loss: 0.051116, Acc: 0.988287\n",
      "epoch 12\n",
      "Test Loss: 0.023895, Acc: 0.990099\n",
      "Train Loss: 0.051772, Acc: 0.988287\n",
      "epoch 13\n",
      "Test Loss: 0.003290, Acc: 1.000000\n",
      "Train Loss: 0.033811, Acc: 0.991283\n",
      "epoch 14\n",
      "Test Loss: 0.009898, Acc: 1.000000\n",
      "Train Loss: 0.039255, Acc: 0.991011\n",
      "epoch 15\n",
      "Test Loss: 0.002555, Acc: 1.000000\n",
      "Train Loss: 0.031364, Acc: 0.992917\n",
      "epoch 16\n",
      "Test Loss: 0.008037, Acc: 1.000000\n",
      "Train Loss: 0.035090, Acc: 0.991283\n",
      "epoch 17\n",
      "Test Loss: 0.011945, Acc: 1.000000\n",
      "Train Loss: 0.039640, Acc: 0.991283\n",
      "epoch 18\n",
      "Test Loss: 0.005548, Acc: 1.000000\n",
      "Train Loss: 0.024337, Acc: 0.995097\n",
      "epoch 19\n",
      "Test Loss: 0.003937, Acc: 1.000000\n",
      "Train Loss: 0.023439, Acc: 0.994007\n",
      "epoch 20\n",
      "Test Loss: 0.003264, Acc: 1.000000\n",
      "Train Loss: 0.021212, Acc: 0.994552\n"
     ]
    }
   ],
   "source": [
    "device = \"cuda\" if torch.cuda.is_available() else \"cpu\"\n",
    "\n",
    "net.to(device)\n",
    "# 超参数\n",
    "lr = 1e-4\n",
    "num_epochs = 20\n",
    "optimizer = torch.optim.Adam(net.parameters(), lr=lr)\n",
    "# 指数衰减  ---以指数衰减,gamma代表指数函数的底数---\n",
    "ExpLR = torch.optim.lr_scheduler.ExponentialLR(optimizer, gamma=0.98)\n",
    "\n",
    "loss = nn.CrossEntropyLoss()\n",
    "history = {\n",
    "    \"train_loss\": [],\n",
    "    \"train_acc\": [],\n",
    "    \"test_loss\": [],\n",
    "    \"test_acc\": []\n",
    "}\n",
    "print(\"---------without training----------\")\n",
    "# train_loss, train_acc = evaluation(net, train_ds, train_loader)\n",
    "test_loss, test_acc = evaluation(net, val_ds, test_loader)\n",
    "print(\"-----------------------------------\")\n",
    "\n",
    "\n",
    "print(\"training on\", device)\n",
    "for epoch in range(num_epochs):\n",
    "    print('epoch {}'.format(epoch + 1))\n",
    "    # training-----------------------------\n",
    "    net.train()\n",
    "    train_loss = 0.\n",
    "    train_acc = 0.\n",
    "    \n",
    "    for X, y in train_loader:\n",
    "        X, y = X.to(device), y.to(device)\n",
    "        outputs = net(X)\n",
    "        _, preds = torch.max(outputs, 1)\n",
    "        l = loss(outputs, y)\n",
    "        optimizer.zero_grad()\n",
    "        l.backward()\n",
    "        optimizer.step()\n",
    "\n",
    "        with torch.no_grad():\n",
    "            train_loss += l.item() * X.size(0)\n",
    "            num_correct = torch.sum(preds == y.data)\n",
    "            train_acc += num_correct\n",
    "            \n",
    "    train_loss, train_acc = train_loss/len(train_ds), train_acc/len(train_ds)\n",
    "    test_loss, test_acc = evaluation(net, val_ds, test_loader)\n",
    "    print('Train Loss: {:.6f}, Acc: {:.6f}'.format(train_loss, train_acc))\n",
    "   \n",
    "    history[\"train_loss\"].append(train_loss)\n",
    "    history[\"train_acc\"].append(train_acc.cpu())\n",
    "    history[\"test_loss\"].append(test_loss)\n",
    "    history[\"test_acc\"].append(test_acc.cpu())"
   ]
  },
  {
   "cell_type": "markdown",
   "id": "54bb4db2",
   "metadata": {
    "papermill": {
     "duration": 0.024013,
     "end_time": "2022-05-07T15:29:44.322771",
     "exception": false,
     "start_time": "2022-05-07T15:29:44.298758",
     "status": "completed"
    },
    "tags": []
   },
   "source": [
    "## 绘图"
   ]
  },
  {
   "cell_type": "code",
   "execution_count": 13,
   "id": "a670bbea",
   "metadata": {
    "execution": {
     "iopub.execute_input": "2022-05-07T15:29:44.370779Z",
     "iopub.status.busy": "2022-05-07T15:29:44.370566Z",
     "iopub.status.idle": "2022-05-07T15:29:44.385149Z",
     "shell.execute_reply": "2022-05-07T15:29:44.384513Z"
    },
    "papermill": {
     "duration": 0.040806,
     "end_time": "2022-05-07T15:29:44.387008",
     "exception": false,
     "start_time": "2022-05-07T15:29:44.346202",
     "status": "completed"
    },
    "tags": []
   },
   "outputs": [],
   "source": [
    "import matplotlib.pyplot as plt\n",
    "%matplotlib inline\n",
    "\n",
    "def plot_loss(history):\n",
    "    fig, ax = plt.subplots()\n",
    "    fig.autofmt_xdate() \n",
    "    plt.xlabel(\"epochs\")\n",
    "    plt.ylabel(\"loss\")\n",
    "    idx = [i+1 for i in range(len(history[\"train_loss\"]))]\n",
    "    \n",
    "    l1, = plt.plot(idx,history[\"train_loss\"], color=\"red\")\n",
    "    l2, = plt.plot(idx,history[\"test_loss\"],color=\"green\")\n",
    "    plt.legend([l1, l2],\n",
    "           ['train_loss', 'test_loss'],\n",
    "           loc='upper right'\n",
    "    )\n",
    "    plt.show()\n",
    "\n",
    "def plot_acc(history):\n",
    "    fig, ax = plt.subplots()\n",
    "    plt.xlabel(\"epochs\")\n",
    "    plt.ylabel(\"acc\")\n",
    "    idx = [i+1 for i in range(len(history[\"train_acc\"]))]\n",
    "    l1, = plt.plot(idx,history[\"train_acc\"], color=\"red\")\n",
    "    l2, = plt.plot(idx,history[\"test_acc\"],color=\"green\")\n",
    "    plt.legend([l1, l2],\n",
    "           ['train_acc', 'test_acc'],\n",
    "           loc='upper right'\n",
    "    )\n",
    "    plt.show()"
   ]
  },
  {
   "cell_type": "code",
   "execution_count": 14,
   "id": "d2973895",
   "metadata": {
    "execution": {
     "iopub.execute_input": "2022-05-07T15:29:44.435651Z",
     "iopub.status.busy": "2022-05-07T15:29:44.435451Z",
     "iopub.status.idle": "2022-05-07T15:29:44.800081Z",
     "shell.execute_reply": "2022-05-07T15:29:44.799361Z"
    },
    "papermill": {
     "duration": 0.390759,
     "end_time": "2022-05-07T15:29:44.801658",
     "exception": false,
     "start_time": "2022-05-07T15:29:44.410899",
     "status": "completed"
    },
    "tags": []
   },
   "outputs": [
    {
     "data": {
      "image/png": "[encoded data removed]",
      "text/plain": [
       "<Figure size 432x288 with 1 Axes>"
      ]
     },
     "metadata": {
      "needs_background": "light"
     },
     "output_type": "display_data"
    },
    {
     "data": {
      "image/png": "[encoded data removed]",
      "text/plain": [
       "<Figure size 432x288 with 1 Axes>"
      ]
     },
     "metadata": {
      "needs_background": "light"
     },
     "output_type": "display_data"
    }
   ],
   "source": [
    "plot_acc(history=history)\n",
    "plot_loss(history=history)"
   ]
  }
 ],
 "metadata": {
  "kernelspec": {
   "display_name": "Python 3.6.13 ('pytorch')",
   "language": "python",
   "name": "python3"
  },
  "language_info": {
   "codemirror_mode": {
    "name": "ipython",
    "version": 3
   },
   "file_extension": ".py",
   "mimetype": "text/x-python",
   "name": "python",
   "nbconvert_exporter": "python",
   "pygments_lexer": "ipython3",
   "version": "3.6.13"
  },
  "papermill": {
   "default_parameters": {},
   "duration": 786.10771,
   "end_time": "2022-05-07T15:29:46.049445",
   "environment_variables": {},
   "exception": null,
   "input_path": "__notebook__.ipynb",
   "output_path": "__notebook__.ipynb",
   "parameters": {},
   "start_time": "2022-05-07T15:16:39.941735",
   "version": "2.3.4"
  },
  "toc": {
   "base_numbering": 1,
   "nav_menu": {},
   "number_sections": true,
   "sideBar": true,
   "skip_h1_title": false,
   "title_cell": "Table of Contents",
   "title_sidebar": "Contents",
   "toc_cell": false,
   "toc_position": {},
   "toc_section_display": true,
   "toc_window_display": false
  },
  "varInspector": {
   "cols": {
    "lenName": 16,
    "lenType": 16,
    "lenVar": 40
   },
   "kernels_config": {
    "python": {
     "delete_cmd_postfix": "",
     "delete_cmd_prefix": "del ",
     "library": "var_list.py",
     "varRefreshCmd": "print(var_dic_list())"
    },
    "r": {
     "delete_cmd_postfix": ") ",
     "delete_cmd_prefix": "rm(",
     "library": "var_list.r",
     "varRefreshCmd": "cat(var_dic_list()) "
    }
   },
   "types_to_exclude": [
    "module",
    "function",
    "builtin_function_or_method",
    "instance",
    "_Feature"
   ],
   "window_display": false
  },
  "vscode": {
   "interpreter": {
    "hash": "e7563111a394ee039718cbf2b4990b9826ca0823d94a258612fc5986fce06182"
   }
  },
  "widgets": {
   "application/vnd.jupyter.widget-state+json": {
    "state": {
     "0323ff9a505b47ed892d0c0dbb169f64": {
      "model_module": "@jupyter-widgets/base",
      "model_module_version": "1.2.0",
      "model_name": "LayoutModel",
      "state": {
       "_model_module": "@jupyter-widgets/base",
       "_model_module_version": "1.2.0",
       "_model_name": "LayoutModel",
       "_view_count": null,
       "_view_module": "@jupyter-widgets/base",
       "_view_module_version": "1.2.0",
       "_view_name": "LayoutView",
       "align_content": null,
       "align_items": null,
       "align_self": null,
       "border": null,
       "bottom": null,
       "display": null,
       "flex": null,
       "flex_flow": null,
       "grid_area": null,
       "grid_auto_columns": null,
       "grid_auto_flow": null,
       "grid_auto_rows": null,
       "grid_column": null,
       "grid_gap": null,
       "grid_row": null,
       "grid_template_areas": null,
       "grid_template_columns": null,
       "grid_template_rows": null,
       "height": null,
       "justify_content": null,
       "justify_items": null,
       "left": null,
       "margin": null,
       "max_height": null,
       "max_width": null,
       "min_height": null,
       "min_width": null,
       "object_fit": null,
       "object_position": null,
       "order": null,
       "overflow": null,
       "overflow_x": null,
       "overflow_y": null,
       "padding": null,
       "right": null,
       "top": null,
       "visibility": null,
       "width": null
      }
     },
     "2a6d66a1f55747b4a4c74ef4368bb717": {
      "model_module": "@jupyter-widgets/controls",
      "model_module_version": "1.5.0",
      "model_name": "HTMLModel",
      "state": {
       "_dom_classes": [],
       "_model_module": "@jupyter-widgets/controls",
       "_model_module_version": "1.5.0",
       "_model_name": "HTMLModel",
       "_view_count": null,
       "_view_module": "@jupyter-widgets/controls",
       "_view_module_version": "1.5.0",
       "_view_name": "HTMLView",
       "description": "",
       "description_tooltip": null,
       "layout": "IPY_MODEL_802436cd66dc417fa028d44f2fef560e",
       "placeholder": "​",
       "style": "IPY_MODEL_9766e2ca2c1c4bea9257d604b10f0f9a",
       "value": " 44.7M/44.7M [00:08&lt;00:00, 11.1MB/s]"
      }
     },
     "44c0d193e15c409f8debeb37d93c02f6": {
      "model_module": "@jupyter-widgets/controls",
      "model_module_version": "1.5.0",
      "model_name": "HBoxModel",
      "state": {
       "_dom_classes": [],
       "_model_module": "@jupyter-widgets/controls",
       "_model_module_version": "1.5.0",
       "_model_name": "HBoxModel",
       "_view_count": null,
       "_view_module": "@jupyter-widgets/controls",
       "_view_module_version": "1.5.0",
       "_view_name": "HBoxView",
       "box_style": "",
       "children": [
        "IPY_MODEL_47109329f13043648732a06c4863f735",
        "IPY_MODEL_c99ce1f263164e0ea5acfb8ce7bcb3c4",
        "IPY_MODEL_2a6d66a1f55747b4a4c74ef4368bb717"
       ],
       "layout": "IPY_MODEL_f54229147234461c98e029aed58afb53"
      }
     },
     "47109329f13043648732a06c4863f735": {
      "model_module": "@jupyter-widgets/controls",
      "model_module_version": "1.5.0",
      "model_name": "HTMLModel",
      "state": {
       "_dom_classes": [],
       "_model_module": "@jupyter-widgets/controls",
       "_model_module_version": "1.5.0",
       "_model_name": "HTMLModel",
       "_view_count": null,
       "_view_module": "@jupyter-widgets/controls",
       "_view_module_version": "1.5.0",
       "_view_name": "HTMLView",
       "description": "",
       "description_tooltip": null,
       "layout": "IPY_MODEL_0323ff9a505b47ed892d0c0dbb169f64",
       "placeholder": "​",
       "style": "IPY_MODEL_6bde757c9d4441a2a74cbb4a0fb305dc",
       "value": "100%"
      }
     },
     "4e1743dd6f3a45ef8ddcbbf2e394fd9b": {
      "model_module": "@jupyter-widgets/controls",
      "model_module_version": "1.5.0",
      "model_name": "ProgressStyleModel",
      "state": {
       "_model_module": "@jupyter-widgets/controls",
       "_model_module_version": "1.5.0",
       "_model_name": "ProgressStyleModel",
       "_view_count": null,
       "_view_module": "@jupyter-widgets/base",
       "_view_module_version": "1.2.0",
       "_view_name": "StyleView",
       "bar_color": null,
       "description_width": ""
      }
     },
     "6bde757c9d4441a2a74cbb4a0fb305dc": {
      "model_module": "@jupyter-widgets/controls",
      "model_module_version": "1.5.0",
      "model_name": "DescriptionStyleModel",
      "state": {
       "_model_module": "@jupyter-widgets/controls",
       "_model_module_version": "1.5.0",
       "_model_name": "DescriptionStyleModel",
       "_view_count": null,
       "_view_module": "@jupyter-widgets/base",
       "_view_module_version": "1.2.0",
       "_view_name": "StyleView",
       "description_width": ""
      }
     },
     "802436cd66dc417fa028d44f2fef560e": {
      "model_module": "@jupyter-widgets/base",
      "model_module_version": "1.2.0",
      "model_name": "LayoutModel",
      "state": {
       "_model_module": "@jupyter-widgets/base",
       "_model_module_version": "1.2.0",
       "_model_name": "LayoutModel",
       "_view_count": null,
       "_view_module": "@jupyter-widgets/base",
       "_view_module_version": "1.2.0",
       "_view_name": "LayoutView",
       "align_content": null,
       "align_items": null,
       "align_self": null,
       "border": null,
       "bottom": null,
       "display": null,
       "flex": null,
       "flex_flow": null,
       "grid_area": null,
       "grid_auto_columns": null,
       "grid_auto_flow": null,
       "grid_auto_rows": null,
       "grid_column": null,
       "grid_gap": null,
       "grid_row": null,
       "grid_template_areas": null,
       "grid_template_columns": null,
       "grid_template_rows": null,
       "height": null,
       "justify_content": null,
       "justify_items": null,
       "left": null,
       "margin": null,
       "max_height": null,
       "max_width": null,
       "min_height": null,
       "min_width": null,
       "object_fit": null,
       "object_position": null,
       "order": null,
       "overflow": null,
       "overflow_x": null,
       "overflow_y": null,
       "padding": null,
       "right": null,
       "top": null,
       "visibility": null,
       "width": null
      }
     },
     "8e0c03b00aa44d40ab32f43d1b0e4456": {
      "model_module": "@jupyter-widgets/base",
      "model_module_version": "1.2.0",
      "model_name": "LayoutModel",
      "state": {
       "_model_module": "@jupyter-widgets/base",
       "_model_module_version": "1.2.0",
       "_model_name": "LayoutModel",
       "_view_count": null,
       "_view_module": "@jupyter-widgets/base",
       "_view_module_version": "1.2.0",
       "_view_name": "LayoutView",
       "align_content": null,
       "align_items": null,
       "align_self": null,
       "border": null,
       "bottom": null,
       "display": null,
       "flex": null,
       "flex_flow": null,
       "grid_area": null,
       "grid_auto_columns": null,
       "grid_auto_flow": null,
       "grid_auto_rows": null,
       "grid_column": null,
       "grid_gap": null,
       "grid_row": null,
       "grid_template_areas": null,
       "grid_template_columns": null,
       "grid_template_rows": null,
       "height": null,
       "justify_content": null,
       "justify_items": null,
       "left": null,
       "margin": null,
       "max_height": null,
       "max_width": null,
       "min_height": null,
       "min_width": null,
       "object_fit": null,
       "object_position": null,
       "order": null,
       "overflow": null,
       "overflow_x": null,
       "overflow_y": null,
       "padding": null,
       "right": null,
       "top": null,
       "visibility": null,
       "width": null
      }
     },
     "9766e2ca2c1c4bea9257d604b10f0f9a": {
      "model_module": "@jupyter-widgets/controls",
      "model_module_version": "1.5.0",
      "model_name": "DescriptionStyleModel",
      "state": {
       "_model_module": "@jupyter-widgets/controls",
       "_model_module_version": "1.5.0",
       "_model_name": "DescriptionStyleModel",
       "_view_count": null,
       "_view_module": "@jupyter-widgets/base",
       "_view_module_version": "1.2.0",
       "_view_name": "StyleView",
       "description_width": ""
      }
     },
     "c99ce1f263164e0ea5acfb8ce7bcb3c4": {
      "model_module": "@jupyter-widgets/controls",
      "model_module_version": "1.5.0",
      "model_name": "FloatProgressModel",
      "state": {
       "_dom_classes": [],
       "_model_module": "@jupyter-widgets/controls",
       "_model_module_version": "1.5.0",
       "_model_name": "FloatProgressModel",
       "_view_count": null,
       "_view_module": "@jupyter-widgets/controls",
       "_view_module_version": "1.5.0",
       "_view_name": "ProgressView",
       "bar_style": "success",
       "description": "",
       "description_tooltip": null,
       "layout": "IPY_MODEL_8e0c03b00aa44d40ab32f43d1b0e4456",
       "max": 46830571,
       "min": 0,
       "orientation": "horizontal",
       "style": "IPY_MODEL_4e1743dd6f3a45ef8ddcbbf2e394fd9b",
       "value": 46830571
      }
     },
     "f54229147234461c98e029aed58afb53": {
      "model_module": "@jupyter-widgets/base",
      "model_module_version": "1.2.0",
      "model_name": "LayoutModel",
      "state": {
       "_model_module": "@jupyter-widgets/base",
       "_model_module_version": "1.2.0",
       "_model_name": "LayoutModel",
       "_view_count": null,
       "_view_module": "@jupyter-widgets/base",
       "_view_module_version": "1.2.0",
       "_view_name": "LayoutView",
       "align_content": null,
       "align_items": null,
       "align_self": null,
       "border": null,
       "bottom": null,
       "display": null,
       "flex": null,
       "flex_flow": null,
       "grid_area": null,
       "grid_auto_columns": null,
       "grid_auto_flow": null,
       "grid_auto_rows": null,
       "grid_column": null,
       "grid_gap": null,
       "grid_row": null,
       "grid_template_areas": null,
       "grid_template_columns": null,
       "grid_template_rows": null,
       "height": null,
       "justify_content": null,
       "justify_items": null,
       "left": null,
       "margin": null,
       "max_height": null,
       "max_width": null,
       "min_height": null,
       "min_width": null,
       "object_fit": null,
       "object_position": null,
       "order": null,
       "overflow": null,
       "overflow_x": null,
       "overflow_y": null,
       "padding": null,
       "right": null,
       "top": null,
       "visibility": null,
       "width": null
      }
     }
    },
    "version_major": 2,
    "version_minor": 0
   }
  }
 },
 "nbformat": 4,
 "nbformat_minor": 5
}
